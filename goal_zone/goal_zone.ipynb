{
 "cells": [
  {
   "cell_type": "code",
   "execution_count": 102,
   "metadata": {},
   "outputs": [],
   "source": [
    "import pandas as pd\n",
    "import numpy as np\n",
    "import plotly.express as px\n",
    "import seaborn as sns\n",
    "import matplotlib.pyplot as plt\n",
    "\n",
    "from sklearn.preprocessing import OneHotEncoder\n",
    "from sklearn.model_selection import train_test_split\n",
    "from sklearn.linear_model import LogisticRegression\n",
    "from sklearn.ensemble import RandomForestClassifier\n",
    "from sklearn.metrics import f1_score\n",
    "from sklearn.metrics import recall_score\n",
    "from sklearn.metrics import precision_score\n",
    "from sklearn.metrics import confusion_matrix\n",
    "from sklearn.preprocessing import RobustScaler\n",
    "from imblearn.over_sampling import SMOTE\n",
    "from sklearn.model_selection import GridSearchCV\n",
    "\n",
    "import warnings\n",
    "warnings.filterwarnings(\"ignore\")"
   ]
  },
  {
   "cell_type": "markdown",
   "metadata": {},
   "source": [
    "# Data exploration and cleaning"
   ]
  },
  {
   "cell_type": "code",
   "execution_count": 142,
   "metadata": {},
   "outputs": [
    {
     "data": {
      "text/html": [
       "<div>\n",
       "<style scoped>\n",
       "    .dataframe tbody tr th:only-of-type {\n",
       "        vertical-align: middle;\n",
       "    }\n",
       "\n",
       "    .dataframe tbody tr th {\n",
       "        vertical-align: top;\n",
       "    }\n",
       "\n",
       "    .dataframe thead th {\n",
       "        text-align: right;\n",
       "    }\n",
       "</style>\n",
       "<table border=\"1\" class=\"dataframe\">\n",
       "  <thead>\n",
       "    <tr style=\"text-align: right;\">\n",
       "      <th></th>\n",
       "      <th>booking_id</th>\n",
       "      <th>months_as_member</th>\n",
       "      <th>weight</th>\n",
       "      <th>days_before</th>\n",
       "      <th>day_of_week</th>\n",
       "      <th>time</th>\n",
       "      <th>category</th>\n",
       "      <th>attended</th>\n",
       "    </tr>\n",
       "  </thead>\n",
       "  <tbody>\n",
       "    <tr>\n",
       "      <th>0</th>\n",
       "      <td>1</td>\n",
       "      <td>17</td>\n",
       "      <td>79.56</td>\n",
       "      <td>8</td>\n",
       "      <td>Wed</td>\n",
       "      <td>PM</td>\n",
       "      <td>Strength</td>\n",
       "      <td>0</td>\n",
       "    </tr>\n",
       "    <tr>\n",
       "      <th>1</th>\n",
       "      <td>2</td>\n",
       "      <td>10</td>\n",
       "      <td>79.01</td>\n",
       "      <td>2</td>\n",
       "      <td>Mon</td>\n",
       "      <td>AM</td>\n",
       "      <td>HIIT</td>\n",
       "      <td>0</td>\n",
       "    </tr>\n",
       "    <tr>\n",
       "      <th>2</th>\n",
       "      <td>3</td>\n",
       "      <td>16</td>\n",
       "      <td>74.53</td>\n",
       "      <td>14</td>\n",
       "      <td>Sun</td>\n",
       "      <td>AM</td>\n",
       "      <td>Strength</td>\n",
       "      <td>0</td>\n",
       "    </tr>\n",
       "    <tr>\n",
       "      <th>3</th>\n",
       "      <td>4</td>\n",
       "      <td>5</td>\n",
       "      <td>86.12</td>\n",
       "      <td>10</td>\n",
       "      <td>Fri</td>\n",
       "      <td>AM</td>\n",
       "      <td>Cycling</td>\n",
       "      <td>0</td>\n",
       "    </tr>\n",
       "    <tr>\n",
       "      <th>4</th>\n",
       "      <td>5</td>\n",
       "      <td>15</td>\n",
       "      <td>69.29</td>\n",
       "      <td>8</td>\n",
       "      <td>Thu</td>\n",
       "      <td>AM</td>\n",
       "      <td>HIIT</td>\n",
       "      <td>0</td>\n",
       "    </tr>\n",
       "  </tbody>\n",
       "</table>\n",
       "</div>"
      ],
      "text/plain": [
       "   booking_id  months_as_member  weight days_before day_of_week time  \\\n",
       "0           1                17   79.56           8         Wed   PM   \n",
       "1           2                10   79.01           2         Mon   AM   \n",
       "2           3                16   74.53          14         Sun   AM   \n",
       "3           4                 5   86.12          10         Fri   AM   \n",
       "4           5                15   69.29           8         Thu   AM   \n",
       "\n",
       "   category  attended  \n",
       "0  Strength         0  \n",
       "1      HIIT         0  \n",
       "2  Strength         0  \n",
       "3   Cycling         0  \n",
       "4      HIIT         0  "
      ]
     },
     "execution_count": 142,
     "metadata": {},
     "output_type": "execute_result"
    }
   ],
   "source": [
    "data = pd.read_csv(\"data/fitness.csv\")\n",
    "data.head()"
   ]
  },
  {
   "cell_type": "code",
   "execution_count": 143,
   "metadata": {},
   "outputs": [],
   "source": [
    "data.day_of_week = [\"Fri\" if x == \"Fri.\" else x for x in data.day_of_week]\n",
    "data.day_of_week = [\"Mon\" if x == \"Monday\" else x for x in data.day_of_week]\n",
    "data.day_of_week = [\"Wed\" if x == \"Wednesday\" else x for x in data.day_of_week]\n",
    "data.category = [np.NaN if x == \"-\" else x for x in data.category] \n",
    "data.days_before = [x.strip(\" days\") for x in data.days_before] \n",
    "data[\"days_before\"] = data[\"days_before\"].astype(int)\n",
    "data.time = [1 if x == \"AM\" else 0 for x in data.time]\n",
    "data = data.dropna()"
   ]
  },
  {
   "cell_type": "code",
   "execution_count": 144,
   "metadata": {},
   "outputs": [
    {
     "data": {
      "text/html": [
       "<div>\n",
       "<style scoped>\n",
       "    .dataframe tbody tr th:only-of-type {\n",
       "        vertical-align: middle;\n",
       "    }\n",
       "\n",
       "    .dataframe tbody tr th {\n",
       "        vertical-align: top;\n",
       "    }\n",
       "\n",
       "    .dataframe thead th {\n",
       "        text-align: right;\n",
       "    }\n",
       "</style>\n",
       "<table border=\"1\" class=\"dataframe\">\n",
       "  <thead>\n",
       "    <tr style=\"text-align: right;\">\n",
       "      <th></th>\n",
       "      <th>booking_id</th>\n",
       "      <th>months_as_member</th>\n",
       "      <th>weight</th>\n",
       "      <th>days_before</th>\n",
       "      <th>day_of_week</th>\n",
       "      <th>time</th>\n",
       "      <th>category</th>\n",
       "      <th>attended</th>\n",
       "    </tr>\n",
       "  </thead>\n",
       "  <tbody>\n",
       "    <tr>\n",
       "      <th>0</th>\n",
       "      <td>1</td>\n",
       "      <td>17</td>\n",
       "      <td>79.56</td>\n",
       "      <td>8</td>\n",
       "      <td>Wed</td>\n",
       "      <td>0</td>\n",
       "      <td>Strength</td>\n",
       "      <td>0</td>\n",
       "    </tr>\n",
       "    <tr>\n",
       "      <th>1</th>\n",
       "      <td>2</td>\n",
       "      <td>10</td>\n",
       "      <td>79.01</td>\n",
       "      <td>2</td>\n",
       "      <td>Mon</td>\n",
       "      <td>1</td>\n",
       "      <td>HIIT</td>\n",
       "      <td>0</td>\n",
       "    </tr>\n",
       "    <tr>\n",
       "      <th>2</th>\n",
       "      <td>3</td>\n",
       "      <td>16</td>\n",
       "      <td>74.53</td>\n",
       "      <td>14</td>\n",
       "      <td>Sun</td>\n",
       "      <td>1</td>\n",
       "      <td>Strength</td>\n",
       "      <td>0</td>\n",
       "    </tr>\n",
       "    <tr>\n",
       "      <th>3</th>\n",
       "      <td>4</td>\n",
       "      <td>5</td>\n",
       "      <td>86.12</td>\n",
       "      <td>10</td>\n",
       "      <td>Fri</td>\n",
       "      <td>1</td>\n",
       "      <td>Cycling</td>\n",
       "      <td>0</td>\n",
       "    </tr>\n",
       "    <tr>\n",
       "      <th>4</th>\n",
       "      <td>5</td>\n",
       "      <td>15</td>\n",
       "      <td>69.29</td>\n",
       "      <td>8</td>\n",
       "      <td>Thu</td>\n",
       "      <td>1</td>\n",
       "      <td>HIIT</td>\n",
       "      <td>0</td>\n",
       "    </tr>\n",
       "    <tr>\n",
       "      <th>...</th>\n",
       "      <td>...</td>\n",
       "      <td>...</td>\n",
       "      <td>...</td>\n",
       "      <td>...</td>\n",
       "      <td>...</td>\n",
       "      <td>...</td>\n",
       "      <td>...</td>\n",
       "      <td>...</td>\n",
       "    </tr>\n",
       "    <tr>\n",
       "      <th>1495</th>\n",
       "      <td>1496</td>\n",
       "      <td>21</td>\n",
       "      <td>79.51</td>\n",
       "      <td>10</td>\n",
       "      <td>Fri</td>\n",
       "      <td>1</td>\n",
       "      <td>HIIT</td>\n",
       "      <td>0</td>\n",
       "    </tr>\n",
       "    <tr>\n",
       "      <th>1496</th>\n",
       "      <td>1497</td>\n",
       "      <td>29</td>\n",
       "      <td>89.55</td>\n",
       "      <td>2</td>\n",
       "      <td>Mon</td>\n",
       "      <td>1</td>\n",
       "      <td>Strength</td>\n",
       "      <td>0</td>\n",
       "    </tr>\n",
       "    <tr>\n",
       "      <th>1497</th>\n",
       "      <td>1498</td>\n",
       "      <td>9</td>\n",
       "      <td>87.38</td>\n",
       "      <td>4</td>\n",
       "      <td>Tue</td>\n",
       "      <td>1</td>\n",
       "      <td>HIIT</td>\n",
       "      <td>0</td>\n",
       "    </tr>\n",
       "    <tr>\n",
       "      <th>1498</th>\n",
       "      <td>1499</td>\n",
       "      <td>34</td>\n",
       "      <td>68.64</td>\n",
       "      <td>14</td>\n",
       "      <td>Sun</td>\n",
       "      <td>1</td>\n",
       "      <td>Aqua</td>\n",
       "      <td>0</td>\n",
       "    </tr>\n",
       "    <tr>\n",
       "      <th>1499</th>\n",
       "      <td>1500</td>\n",
       "      <td>20</td>\n",
       "      <td>94.39</td>\n",
       "      <td>8</td>\n",
       "      <td>Thu</td>\n",
       "      <td>1</td>\n",
       "      <td>Cycling</td>\n",
       "      <td>1</td>\n",
       "    </tr>\n",
       "  </tbody>\n",
       "</table>\n",
       "<p>1467 rows × 8 columns</p>\n",
       "</div>"
      ],
      "text/plain": [
       "      booking_id  months_as_member  weight  days_before day_of_week  time  \\\n",
       "0              1                17   79.56            8         Wed     0   \n",
       "1              2                10   79.01            2         Mon     1   \n",
       "2              3                16   74.53           14         Sun     1   \n",
       "3              4                 5   86.12           10         Fri     1   \n",
       "4              5                15   69.29            8         Thu     1   \n",
       "...          ...               ...     ...          ...         ...   ...   \n",
       "1495        1496                21   79.51           10         Fri     1   \n",
       "1496        1497                29   89.55            2         Mon     1   \n",
       "1497        1498                 9   87.38            4         Tue     1   \n",
       "1498        1499                34   68.64           14         Sun     1   \n",
       "1499        1500                20   94.39            8         Thu     1   \n",
       "\n",
       "      category  attended  \n",
       "0     Strength         0  \n",
       "1         HIIT         0  \n",
       "2     Strength         0  \n",
       "3      Cycling         0  \n",
       "4         HIIT         0  \n",
       "...        ...       ...  \n",
       "1495      HIIT         0  \n",
       "1496  Strength         0  \n",
       "1497      HIIT         0  \n",
       "1498      Aqua         0  \n",
       "1499   Cycling         1  \n",
       "\n",
       "[1467 rows x 8 columns]"
      ]
     },
     "execution_count": 144,
     "metadata": {},
     "output_type": "execute_result"
    }
   ],
   "source": [
    "data"
   ]
  },
  {
   "cell_type": "markdown",
   "metadata": {},
   "source": [
    "# Data prep"
   ]
  },
  {
   "cell_type": "code",
   "execution_count": 145,
   "metadata": {},
   "outputs": [],
   "source": [
    "# Selecting features and target\n",
    "features = data.drop(columns=[\"booking_id\", \"attended\"])\n",
    "target = data[[\"attended\"]]"
   ]
  },
  {
   "cell_type": "code",
   "execution_count": 146,
   "metadata": {},
   "outputs": [],
   "source": [
    "features = features.reset_index(drop=True)"
   ]
  },
  {
   "cell_type": "code",
   "execution_count": 147,
   "metadata": {},
   "outputs": [
    {
     "data": {
      "text/html": [
       "<div>\n",
       "<style scoped>\n",
       "    .dataframe tbody tr th:only-of-type {\n",
       "        vertical-align: middle;\n",
       "    }\n",
       "\n",
       "    .dataframe tbody tr th {\n",
       "        vertical-align: top;\n",
       "    }\n",
       "\n",
       "    .dataframe thead th {\n",
       "        text-align: right;\n",
       "    }\n",
       "</style>\n",
       "<table border=\"1\" class=\"dataframe\">\n",
       "  <thead>\n",
       "    <tr style=\"text-align: right;\">\n",
       "      <th></th>\n",
       "      <th>months_as_member</th>\n",
       "      <th>weight</th>\n",
       "      <th>days_before</th>\n",
       "      <th>day_of_week</th>\n",
       "      <th>time</th>\n",
       "      <th>category</th>\n",
       "    </tr>\n",
       "  </thead>\n",
       "  <tbody>\n",
       "    <tr>\n",
       "      <th>0</th>\n",
       "      <td>17</td>\n",
       "      <td>79.56</td>\n",
       "      <td>8</td>\n",
       "      <td>Wed</td>\n",
       "      <td>0</td>\n",
       "      <td>Strength</td>\n",
       "    </tr>\n",
       "    <tr>\n",
       "      <th>1</th>\n",
       "      <td>10</td>\n",
       "      <td>79.01</td>\n",
       "      <td>2</td>\n",
       "      <td>Mon</td>\n",
       "      <td>1</td>\n",
       "      <td>HIIT</td>\n",
       "    </tr>\n",
       "    <tr>\n",
       "      <th>2</th>\n",
       "      <td>16</td>\n",
       "      <td>74.53</td>\n",
       "      <td>14</td>\n",
       "      <td>Sun</td>\n",
       "      <td>1</td>\n",
       "      <td>Strength</td>\n",
       "    </tr>\n",
       "    <tr>\n",
       "      <th>3</th>\n",
       "      <td>5</td>\n",
       "      <td>86.12</td>\n",
       "      <td>10</td>\n",
       "      <td>Fri</td>\n",
       "      <td>1</td>\n",
       "      <td>Cycling</td>\n",
       "    </tr>\n",
       "    <tr>\n",
       "      <th>4</th>\n",
       "      <td>15</td>\n",
       "      <td>69.29</td>\n",
       "      <td>8</td>\n",
       "      <td>Thu</td>\n",
       "      <td>1</td>\n",
       "      <td>HIIT</td>\n",
       "    </tr>\n",
       "    <tr>\n",
       "      <th>...</th>\n",
       "      <td>...</td>\n",
       "      <td>...</td>\n",
       "      <td>...</td>\n",
       "      <td>...</td>\n",
       "      <td>...</td>\n",
       "      <td>...</td>\n",
       "    </tr>\n",
       "    <tr>\n",
       "      <th>1462</th>\n",
       "      <td>21</td>\n",
       "      <td>79.51</td>\n",
       "      <td>10</td>\n",
       "      <td>Fri</td>\n",
       "      <td>1</td>\n",
       "      <td>HIIT</td>\n",
       "    </tr>\n",
       "    <tr>\n",
       "      <th>1463</th>\n",
       "      <td>29</td>\n",
       "      <td>89.55</td>\n",
       "      <td>2</td>\n",
       "      <td>Mon</td>\n",
       "      <td>1</td>\n",
       "      <td>Strength</td>\n",
       "    </tr>\n",
       "    <tr>\n",
       "      <th>1464</th>\n",
       "      <td>9</td>\n",
       "      <td>87.38</td>\n",
       "      <td>4</td>\n",
       "      <td>Tue</td>\n",
       "      <td>1</td>\n",
       "      <td>HIIT</td>\n",
       "    </tr>\n",
       "    <tr>\n",
       "      <th>1465</th>\n",
       "      <td>34</td>\n",
       "      <td>68.64</td>\n",
       "      <td>14</td>\n",
       "      <td>Sun</td>\n",
       "      <td>1</td>\n",
       "      <td>Aqua</td>\n",
       "    </tr>\n",
       "    <tr>\n",
       "      <th>1466</th>\n",
       "      <td>20</td>\n",
       "      <td>94.39</td>\n",
       "      <td>8</td>\n",
       "      <td>Thu</td>\n",
       "      <td>1</td>\n",
       "      <td>Cycling</td>\n",
       "    </tr>\n",
       "  </tbody>\n",
       "</table>\n",
       "<p>1467 rows × 6 columns</p>\n",
       "</div>"
      ],
      "text/plain": [
       "      months_as_member  weight  days_before day_of_week  time  category\n",
       "0                   17   79.56            8         Wed     0  Strength\n",
       "1                   10   79.01            2         Mon     1      HIIT\n",
       "2                   16   74.53           14         Sun     1  Strength\n",
       "3                    5   86.12           10         Fri     1   Cycling\n",
       "4                   15   69.29            8         Thu     1      HIIT\n",
       "...                ...     ...          ...         ...   ...       ...\n",
       "1462                21   79.51           10         Fri     1      HIIT\n",
       "1463                29   89.55            2         Mon     1  Strength\n",
       "1464                 9   87.38            4         Tue     1      HIIT\n",
       "1465                34   68.64           14         Sun     1      Aqua\n",
       "1466                20   94.39            8         Thu     1   Cycling\n",
       "\n",
       "[1467 rows x 6 columns]"
      ]
     },
     "execution_count": 147,
     "metadata": {},
     "output_type": "execute_result"
    }
   ],
   "source": [
    "features"
   ]
  },
  {
   "cell_type": "markdown",
   "metadata": {},
   "source": [
    "## Encoding"
   ]
  },
  {
   "cell_type": "code",
   "execution_count": 148,
   "metadata": {},
   "outputs": [],
   "source": [
    "# Encoding the day_of_week column\n",
    "def encode_day_of_week(features):\n",
    "    ohe_day = OneHotEncoder(sparse= False, handle_unknown='ignore')\n",
    "    ohe_day.fit_transform(features[[\"day_of_week\"]])\n",
    "    day_of_week_encoded = pd.DataFrame(ohe_day.fit_transform(features[[\"day_of_week\"]]), columns=ohe_day.categories_).reset_index(drop=True)\n",
    "    df = pd.concat([features, day_of_week_encoded], axis=1)\n",
    "    return df, ohe_day"
   ]
  },
  {
   "cell_type": "code",
   "execution_count": 149,
   "metadata": {},
   "outputs": [],
   "source": [
    "# Encoding the category column\n",
    "def encode_features(features):\n",
    "    df = encode_day_of_week(features)[0]\n",
    "    ohe_day = encode_day_of_week(features)[1]\n",
    "    ohe_category = OneHotEncoder(sparse= False, handle_unknown='ignore')\n",
    "    feature_to_encode = features[[\"category\"]]\n",
    "    ohe_category.fit_transform(feature_to_encode)\n",
    "    category_encoded = pd.DataFrame(ohe_category.fit_transform(feature_to_encode), columns=ohe_category.categories_).reset_index(drop=True)\n",
    "    features_encoded = pd.concat([df, category_encoded], axis=1)\n",
    "    return features_encoded.drop(columns=[\"day_of_week\", \"category\"]), ohe_day, ohe_category"
   ]
  },
  {
   "cell_type": "code",
   "execution_count": 180,
   "metadata": {},
   "outputs": [
    {
     "data": {
      "text/html": [
       "<div>\n",
       "<style scoped>\n",
       "    .dataframe tbody tr th:only-of-type {\n",
       "        vertical-align: middle;\n",
       "    }\n",
       "\n",
       "    .dataframe tbody tr th {\n",
       "        vertical-align: top;\n",
       "    }\n",
       "\n",
       "    .dataframe thead th {\n",
       "        text-align: right;\n",
       "    }\n",
       "</style>\n",
       "<table border=\"1\" class=\"dataframe\">\n",
       "  <thead>\n",
       "    <tr style=\"text-align: right;\">\n",
       "      <th></th>\n",
       "      <th>months_as_member</th>\n",
       "      <th>weight</th>\n",
       "      <th>days_before</th>\n",
       "      <th>time</th>\n",
       "      <th>(Fri,)</th>\n",
       "      <th>(Mon,)</th>\n",
       "      <th>(Sat,)</th>\n",
       "      <th>(Sun,)</th>\n",
       "      <th>(Thu,)</th>\n",
       "      <th>(Tue,)</th>\n",
       "      <th>(Wed,)</th>\n",
       "      <th>(Aqua,)</th>\n",
       "      <th>(Cycling,)</th>\n",
       "      <th>(HIIT,)</th>\n",
       "      <th>(Strength,)</th>\n",
       "      <th>(Yoga,)</th>\n",
       "    </tr>\n",
       "  </thead>\n",
       "  <tbody>\n",
       "    <tr>\n",
       "      <th>0</th>\n",
       "      <td>17</td>\n",
       "      <td>79.56</td>\n",
       "      <td>8</td>\n",
       "      <td>0</td>\n",
       "      <td>0.0</td>\n",
       "      <td>0.0</td>\n",
       "      <td>0.0</td>\n",
       "      <td>0.0</td>\n",
       "      <td>0.0</td>\n",
       "      <td>0.0</td>\n",
       "      <td>1.0</td>\n",
       "      <td>0.0</td>\n",
       "      <td>0.0</td>\n",
       "      <td>0.0</td>\n",
       "      <td>1.0</td>\n",
       "      <td>0.0</td>\n",
       "    </tr>\n",
       "    <tr>\n",
       "      <th>1</th>\n",
       "      <td>10</td>\n",
       "      <td>79.01</td>\n",
       "      <td>2</td>\n",
       "      <td>1</td>\n",
       "      <td>0.0</td>\n",
       "      <td>1.0</td>\n",
       "      <td>0.0</td>\n",
       "      <td>0.0</td>\n",
       "      <td>0.0</td>\n",
       "      <td>0.0</td>\n",
       "      <td>0.0</td>\n",
       "      <td>0.0</td>\n",
       "      <td>0.0</td>\n",
       "      <td>1.0</td>\n",
       "      <td>0.0</td>\n",
       "      <td>0.0</td>\n",
       "    </tr>\n",
       "    <tr>\n",
       "      <th>2</th>\n",
       "      <td>16</td>\n",
       "      <td>74.53</td>\n",
       "      <td>14</td>\n",
       "      <td>1</td>\n",
       "      <td>0.0</td>\n",
       "      <td>0.0</td>\n",
       "      <td>0.0</td>\n",
       "      <td>1.0</td>\n",
       "      <td>0.0</td>\n",
       "      <td>0.0</td>\n",
       "      <td>0.0</td>\n",
       "      <td>0.0</td>\n",
       "      <td>0.0</td>\n",
       "      <td>0.0</td>\n",
       "      <td>1.0</td>\n",
       "      <td>0.0</td>\n",
       "    </tr>\n",
       "    <tr>\n",
       "      <th>3</th>\n",
       "      <td>5</td>\n",
       "      <td>86.12</td>\n",
       "      <td>10</td>\n",
       "      <td>1</td>\n",
       "      <td>1.0</td>\n",
       "      <td>0.0</td>\n",
       "      <td>0.0</td>\n",
       "      <td>0.0</td>\n",
       "      <td>0.0</td>\n",
       "      <td>0.0</td>\n",
       "      <td>0.0</td>\n",
       "      <td>0.0</td>\n",
       "      <td>1.0</td>\n",
       "      <td>0.0</td>\n",
       "      <td>0.0</td>\n",
       "      <td>0.0</td>\n",
       "    </tr>\n",
       "    <tr>\n",
       "      <th>4</th>\n",
       "      <td>15</td>\n",
       "      <td>69.29</td>\n",
       "      <td>8</td>\n",
       "      <td>1</td>\n",
       "      <td>0.0</td>\n",
       "      <td>0.0</td>\n",
       "      <td>0.0</td>\n",
       "      <td>0.0</td>\n",
       "      <td>1.0</td>\n",
       "      <td>0.0</td>\n",
       "      <td>0.0</td>\n",
       "      <td>0.0</td>\n",
       "      <td>0.0</td>\n",
       "      <td>1.0</td>\n",
       "      <td>0.0</td>\n",
       "      <td>0.0</td>\n",
       "    </tr>\n",
       "    <tr>\n",
       "      <th>...</th>\n",
       "      <td>...</td>\n",
       "      <td>...</td>\n",
       "      <td>...</td>\n",
       "      <td>...</td>\n",
       "      <td>...</td>\n",
       "      <td>...</td>\n",
       "      <td>...</td>\n",
       "      <td>...</td>\n",
       "      <td>...</td>\n",
       "      <td>...</td>\n",
       "      <td>...</td>\n",
       "      <td>...</td>\n",
       "      <td>...</td>\n",
       "      <td>...</td>\n",
       "      <td>...</td>\n",
       "      <td>...</td>\n",
       "    </tr>\n",
       "    <tr>\n",
       "      <th>1462</th>\n",
       "      <td>21</td>\n",
       "      <td>79.51</td>\n",
       "      <td>10</td>\n",
       "      <td>1</td>\n",
       "      <td>1.0</td>\n",
       "      <td>0.0</td>\n",
       "      <td>0.0</td>\n",
       "      <td>0.0</td>\n",
       "      <td>0.0</td>\n",
       "      <td>0.0</td>\n",
       "      <td>0.0</td>\n",
       "      <td>0.0</td>\n",
       "      <td>0.0</td>\n",
       "      <td>1.0</td>\n",
       "      <td>0.0</td>\n",
       "      <td>0.0</td>\n",
       "    </tr>\n",
       "    <tr>\n",
       "      <th>1463</th>\n",
       "      <td>29</td>\n",
       "      <td>89.55</td>\n",
       "      <td>2</td>\n",
       "      <td>1</td>\n",
       "      <td>0.0</td>\n",
       "      <td>1.0</td>\n",
       "      <td>0.0</td>\n",
       "      <td>0.0</td>\n",
       "      <td>0.0</td>\n",
       "      <td>0.0</td>\n",
       "      <td>0.0</td>\n",
       "      <td>0.0</td>\n",
       "      <td>0.0</td>\n",
       "      <td>0.0</td>\n",
       "      <td>1.0</td>\n",
       "      <td>0.0</td>\n",
       "    </tr>\n",
       "    <tr>\n",
       "      <th>1464</th>\n",
       "      <td>9</td>\n",
       "      <td>87.38</td>\n",
       "      <td>4</td>\n",
       "      <td>1</td>\n",
       "      <td>0.0</td>\n",
       "      <td>0.0</td>\n",
       "      <td>0.0</td>\n",
       "      <td>0.0</td>\n",
       "      <td>0.0</td>\n",
       "      <td>1.0</td>\n",
       "      <td>0.0</td>\n",
       "      <td>0.0</td>\n",
       "      <td>0.0</td>\n",
       "      <td>1.0</td>\n",
       "      <td>0.0</td>\n",
       "      <td>0.0</td>\n",
       "    </tr>\n",
       "    <tr>\n",
       "      <th>1465</th>\n",
       "      <td>34</td>\n",
       "      <td>68.64</td>\n",
       "      <td>14</td>\n",
       "      <td>1</td>\n",
       "      <td>0.0</td>\n",
       "      <td>0.0</td>\n",
       "      <td>0.0</td>\n",
       "      <td>1.0</td>\n",
       "      <td>0.0</td>\n",
       "      <td>0.0</td>\n",
       "      <td>0.0</td>\n",
       "      <td>1.0</td>\n",
       "      <td>0.0</td>\n",
       "      <td>0.0</td>\n",
       "      <td>0.0</td>\n",
       "      <td>0.0</td>\n",
       "    </tr>\n",
       "    <tr>\n",
       "      <th>1466</th>\n",
       "      <td>20</td>\n",
       "      <td>94.39</td>\n",
       "      <td>8</td>\n",
       "      <td>1</td>\n",
       "      <td>0.0</td>\n",
       "      <td>0.0</td>\n",
       "      <td>0.0</td>\n",
       "      <td>0.0</td>\n",
       "      <td>1.0</td>\n",
       "      <td>0.0</td>\n",
       "      <td>0.0</td>\n",
       "      <td>0.0</td>\n",
       "      <td>1.0</td>\n",
       "      <td>0.0</td>\n",
       "      <td>0.0</td>\n",
       "      <td>0.0</td>\n",
       "    </tr>\n",
       "  </tbody>\n",
       "</table>\n",
       "<p>1467 rows × 16 columns</p>\n",
       "</div>"
      ],
      "text/plain": [
       "      months_as_member  weight  days_before  time  (Fri,)  (Mon,)  (Sat,)  \\\n",
       "0                   17   79.56            8     0     0.0     0.0     0.0   \n",
       "1                   10   79.01            2     1     0.0     1.0     0.0   \n",
       "2                   16   74.53           14     1     0.0     0.0     0.0   \n",
       "3                    5   86.12           10     1     1.0     0.0     0.0   \n",
       "4                   15   69.29            8     1     0.0     0.0     0.0   \n",
       "...                ...     ...          ...   ...     ...     ...     ...   \n",
       "1462                21   79.51           10     1     1.0     0.0     0.0   \n",
       "1463                29   89.55            2     1     0.0     1.0     0.0   \n",
       "1464                 9   87.38            4     1     0.0     0.0     0.0   \n",
       "1465                34   68.64           14     1     0.0     0.0     0.0   \n",
       "1466                20   94.39            8     1     0.0     0.0     0.0   \n",
       "\n",
       "      (Sun,)  (Thu,)  (Tue,)  (Wed,)  (Aqua,)  (Cycling,)  (HIIT,)  \\\n",
       "0        0.0     0.0     0.0     1.0      0.0         0.0      0.0   \n",
       "1        0.0     0.0     0.0     0.0      0.0         0.0      1.0   \n",
       "2        1.0     0.0     0.0     0.0      0.0         0.0      0.0   \n",
       "3        0.0     0.0     0.0     0.0      0.0         1.0      0.0   \n",
       "4        0.0     1.0     0.0     0.0      0.0         0.0      1.0   \n",
       "...      ...     ...     ...     ...      ...         ...      ...   \n",
       "1462     0.0     0.0     0.0     0.0      0.0         0.0      1.0   \n",
       "1463     0.0     0.0     0.0     0.0      0.0         0.0      0.0   \n",
       "1464     0.0     0.0     1.0     0.0      0.0         0.0      1.0   \n",
       "1465     1.0     0.0     0.0     0.0      1.0         0.0      0.0   \n",
       "1466     0.0     1.0     0.0     0.0      0.0         1.0      0.0   \n",
       "\n",
       "      (Strength,)  (Yoga,)  \n",
       "0             1.0      0.0  \n",
       "1             0.0      0.0  \n",
       "2             1.0      0.0  \n",
       "3             0.0      0.0  \n",
       "4             0.0      0.0  \n",
       "...           ...      ...  \n",
       "1462          0.0      0.0  \n",
       "1463          1.0      0.0  \n",
       "1464          0.0      0.0  \n",
       "1465          0.0      0.0  \n",
       "1466          0.0      0.0  \n",
       "\n",
       "[1467 rows x 16 columns]"
      ]
     },
     "execution_count": 180,
     "metadata": {},
     "output_type": "execute_result"
    }
   ],
   "source": [
    "features_encoded, ohe_day, ohe_category = encode_features(features)\n",
    "features_encoded"
   ]
  },
  {
   "cell_type": "code",
   "execution_count": 151,
   "metadata": {},
   "outputs": [],
   "source": [
    "# Train test split must occur BEFORE scaling\n",
    "X_train, X_test, y_train, y_test = train_test_split(features_encoded, target, test_size=0.10, random_state=42)"
   ]
  },
  {
   "cell_type": "markdown",
   "metadata": {},
   "source": [
    "## Feature scaling"
   ]
  },
  {
   "cell_type": "code",
   "execution_count": 152,
   "metadata": {},
   "outputs": [],
   "source": [
    "X_train = X_train.reset_index(drop=True)"
   ]
  },
  {
   "cell_type": "code",
   "execution_count": 153,
   "metadata": {},
   "outputs": [],
   "source": [
    "def scale_and_return_scaler(X_train):\n",
    "    transformer = RobustScaler()\n",
    "    df_scaled = transformer.fit_transform(X_train.iloc[:, 0:3].to_numpy())\n",
    "    df_scaled = pd.DataFrame(df_scaled, columns=[\"months_scaled\", \"weight_scaled\", \"days_scaled\"])\n",
    "    return pd.concat([df_scaled, X_train.iloc[:, 3:]], axis=1), transformer"
   ]
  },
  {
   "cell_type": "code",
   "execution_count": 154,
   "metadata": {},
   "outputs": [],
   "source": [
    "X_train_scaled, scaler = scale_and_return_scaler(X_train)"
   ]
  },
  {
   "cell_type": "markdown",
   "metadata": {},
   "source": [
    "### Must now tranform test set using fitted scaler"
   ]
  },
  {
   "cell_type": "code",
   "execution_count": 157,
   "metadata": {},
   "outputs": [],
   "source": [
    "X_test = X_test.reset_index(drop=True)"
   ]
  },
  {
   "cell_type": "code",
   "execution_count": 158,
   "metadata": {},
   "outputs": [
    {
     "data": {
      "text/html": [
       "<div>\n",
       "<style scoped>\n",
       "    .dataframe tbody tr th:only-of-type {\n",
       "        vertical-align: middle;\n",
       "    }\n",
       "\n",
       "    .dataframe tbody tr th {\n",
       "        vertical-align: top;\n",
       "    }\n",
       "\n",
       "    .dataframe thead th {\n",
       "        text-align: right;\n",
       "    }\n",
       "</style>\n",
       "<table border=\"1\" class=\"dataframe\">\n",
       "  <thead>\n",
       "    <tr style=\"text-align: right;\">\n",
       "      <th></th>\n",
       "      <th>months_as_member</th>\n",
       "      <th>weight</th>\n",
       "      <th>days_before</th>\n",
       "      <th>time</th>\n",
       "      <th>(Fri,)</th>\n",
       "      <th>(Mon,)</th>\n",
       "      <th>(Sat,)</th>\n",
       "      <th>(Sun,)</th>\n",
       "      <th>(Thu,)</th>\n",
       "      <th>(Tue,)</th>\n",
       "      <th>(Wed,)</th>\n",
       "      <th>(Aqua,)</th>\n",
       "      <th>(Cycling,)</th>\n",
       "      <th>(HIIT,)</th>\n",
       "      <th>(Strength,)</th>\n",
       "      <th>(Yoga,)</th>\n",
       "    </tr>\n",
       "  </thead>\n",
       "  <tbody>\n",
       "    <tr>\n",
       "      <th>0</th>\n",
       "      <td>3</td>\n",
       "      <td>90.34</td>\n",
       "      <td>10</td>\n",
       "      <td>1</td>\n",
       "      <td>1.0</td>\n",
       "      <td>0.0</td>\n",
       "      <td>0.0</td>\n",
       "      <td>0.0</td>\n",
       "      <td>0.0</td>\n",
       "      <td>0.0</td>\n",
       "      <td>0.0</td>\n",
       "      <td>0.0</td>\n",
       "      <td>0.0</td>\n",
       "      <td>1.0</td>\n",
       "      <td>0.0</td>\n",
       "      <td>0.0</td>\n",
       "    </tr>\n",
       "    <tr>\n",
       "      <th>1</th>\n",
       "      <td>8</td>\n",
       "      <td>92.84</td>\n",
       "      <td>10</td>\n",
       "      <td>1</td>\n",
       "      <td>1.0</td>\n",
       "      <td>0.0</td>\n",
       "      <td>0.0</td>\n",
       "      <td>0.0</td>\n",
       "      <td>0.0</td>\n",
       "      <td>0.0</td>\n",
       "      <td>0.0</td>\n",
       "      <td>0.0</td>\n",
       "      <td>1.0</td>\n",
       "      <td>0.0</td>\n",
       "      <td>0.0</td>\n",
       "      <td>0.0</td>\n",
       "    </tr>\n",
       "    <tr>\n",
       "      <th>2</th>\n",
       "      <td>4</td>\n",
       "      <td>97.16</td>\n",
       "      <td>4</td>\n",
       "      <td>0</td>\n",
       "      <td>0.0</td>\n",
       "      <td>0.0</td>\n",
       "      <td>0.0</td>\n",
       "      <td>0.0</td>\n",
       "      <td>0.0</td>\n",
       "      <td>1.0</td>\n",
       "      <td>0.0</td>\n",
       "      <td>0.0</td>\n",
       "      <td>0.0</td>\n",
       "      <td>1.0</td>\n",
       "      <td>0.0</td>\n",
       "      <td>0.0</td>\n",
       "    </tr>\n",
       "    <tr>\n",
       "      <th>3</th>\n",
       "      <td>9</td>\n",
       "      <td>82.13</td>\n",
       "      <td>10</td>\n",
       "      <td>0</td>\n",
       "      <td>0.0</td>\n",
       "      <td>0.0</td>\n",
       "      <td>0.0</td>\n",
       "      <td>0.0</td>\n",
       "      <td>1.0</td>\n",
       "      <td>0.0</td>\n",
       "      <td>0.0</td>\n",
       "      <td>0.0</td>\n",
       "      <td>0.0</td>\n",
       "      <td>1.0</td>\n",
       "      <td>0.0</td>\n",
       "      <td>0.0</td>\n",
       "    </tr>\n",
       "    <tr>\n",
       "      <th>4</th>\n",
       "      <td>48</td>\n",
       "      <td>68.39</td>\n",
       "      <td>10</td>\n",
       "      <td>1</td>\n",
       "      <td>1.0</td>\n",
       "      <td>0.0</td>\n",
       "      <td>0.0</td>\n",
       "      <td>0.0</td>\n",
       "      <td>0.0</td>\n",
       "      <td>0.0</td>\n",
       "      <td>0.0</td>\n",
       "      <td>0.0</td>\n",
       "      <td>0.0</td>\n",
       "      <td>1.0</td>\n",
       "      <td>0.0</td>\n",
       "      <td>0.0</td>\n",
       "    </tr>\n",
       "    <tr>\n",
       "      <th>...</th>\n",
       "      <td>...</td>\n",
       "      <td>...</td>\n",
       "      <td>...</td>\n",
       "      <td>...</td>\n",
       "      <td>...</td>\n",
       "      <td>...</td>\n",
       "      <td>...</td>\n",
       "      <td>...</td>\n",
       "      <td>...</td>\n",
       "      <td>...</td>\n",
       "      <td>...</td>\n",
       "      <td>...</td>\n",
       "      <td>...</td>\n",
       "      <td>...</td>\n",
       "      <td>...</td>\n",
       "      <td>...</td>\n",
       "    </tr>\n",
       "    <tr>\n",
       "      <th>142</th>\n",
       "      <td>33</td>\n",
       "      <td>71.25</td>\n",
       "      <td>11</td>\n",
       "      <td>1</td>\n",
       "      <td>1.0</td>\n",
       "      <td>0.0</td>\n",
       "      <td>0.0</td>\n",
       "      <td>0.0</td>\n",
       "      <td>0.0</td>\n",
       "      <td>0.0</td>\n",
       "      <td>0.0</td>\n",
       "      <td>0.0</td>\n",
       "      <td>0.0</td>\n",
       "      <td>0.0</td>\n",
       "      <td>1.0</td>\n",
       "      <td>0.0</td>\n",
       "    </tr>\n",
       "    <tr>\n",
       "      <th>143</th>\n",
       "      <td>9</td>\n",
       "      <td>112.15</td>\n",
       "      <td>10</td>\n",
       "      <td>1</td>\n",
       "      <td>1.0</td>\n",
       "      <td>0.0</td>\n",
       "      <td>0.0</td>\n",
       "      <td>0.0</td>\n",
       "      <td>0.0</td>\n",
       "      <td>0.0</td>\n",
       "      <td>0.0</td>\n",
       "      <td>0.0</td>\n",
       "      <td>0.0</td>\n",
       "      <td>1.0</td>\n",
       "      <td>0.0</td>\n",
       "      <td>0.0</td>\n",
       "    </tr>\n",
       "    <tr>\n",
       "      <th>144</th>\n",
       "      <td>2</td>\n",
       "      <td>103.20</td>\n",
       "      <td>12</td>\n",
       "      <td>0</td>\n",
       "      <td>0.0</td>\n",
       "      <td>0.0</td>\n",
       "      <td>1.0</td>\n",
       "      <td>0.0</td>\n",
       "      <td>0.0</td>\n",
       "      <td>0.0</td>\n",
       "      <td>0.0</td>\n",
       "      <td>0.0</td>\n",
       "      <td>0.0</td>\n",
       "      <td>1.0</td>\n",
       "      <td>0.0</td>\n",
       "      <td>0.0</td>\n",
       "    </tr>\n",
       "    <tr>\n",
       "      <th>145</th>\n",
       "      <td>7</td>\n",
       "      <td>89.22</td>\n",
       "      <td>9</td>\n",
       "      <td>0</td>\n",
       "      <td>0.0</td>\n",
       "      <td>0.0</td>\n",
       "      <td>0.0</td>\n",
       "      <td>0.0</td>\n",
       "      <td>1.0</td>\n",
       "      <td>0.0</td>\n",
       "      <td>0.0</td>\n",
       "      <td>0.0</td>\n",
       "      <td>1.0</td>\n",
       "      <td>0.0</td>\n",
       "      <td>0.0</td>\n",
       "      <td>0.0</td>\n",
       "    </tr>\n",
       "    <tr>\n",
       "      <th>146</th>\n",
       "      <td>11</td>\n",
       "      <td>97.87</td>\n",
       "      <td>5</td>\n",
       "      <td>0</td>\n",
       "      <td>0.0</td>\n",
       "      <td>0.0</td>\n",
       "      <td>0.0</td>\n",
       "      <td>0.0</td>\n",
       "      <td>0.0</td>\n",
       "      <td>1.0</td>\n",
       "      <td>0.0</td>\n",
       "      <td>0.0</td>\n",
       "      <td>1.0</td>\n",
       "      <td>0.0</td>\n",
       "      <td>0.0</td>\n",
       "      <td>0.0</td>\n",
       "    </tr>\n",
       "  </tbody>\n",
       "</table>\n",
       "<p>147 rows × 16 columns</p>\n",
       "</div>"
      ],
      "text/plain": [
       "     months_as_member  weight  days_before  time  (Fri,)  (Mon,)  (Sat,)  \\\n",
       "0                   3   90.34           10     1     1.0     0.0     0.0   \n",
       "1                   8   92.84           10     1     1.0     0.0     0.0   \n",
       "2                   4   97.16            4     0     0.0     0.0     0.0   \n",
       "3                   9   82.13           10     0     0.0     0.0     0.0   \n",
       "4                  48   68.39           10     1     1.0     0.0     0.0   \n",
       "..                ...     ...          ...   ...     ...     ...     ...   \n",
       "142                33   71.25           11     1     1.0     0.0     0.0   \n",
       "143                 9  112.15           10     1     1.0     0.0     0.0   \n",
       "144                 2  103.20           12     0     0.0     0.0     1.0   \n",
       "145                 7   89.22            9     0     0.0     0.0     0.0   \n",
       "146                11   97.87            5     0     0.0     0.0     0.0   \n",
       "\n",
       "     (Sun,)  (Thu,)  (Tue,)  (Wed,)  (Aqua,)  (Cycling,)  (HIIT,)  \\\n",
       "0       0.0     0.0     0.0     0.0      0.0         0.0      1.0   \n",
       "1       0.0     0.0     0.0     0.0      0.0         1.0      0.0   \n",
       "2       0.0     0.0     1.0     0.0      0.0         0.0      1.0   \n",
       "3       0.0     1.0     0.0     0.0      0.0         0.0      1.0   \n",
       "4       0.0     0.0     0.0     0.0      0.0         0.0      1.0   \n",
       "..      ...     ...     ...     ...      ...         ...      ...   \n",
       "142     0.0     0.0     0.0     0.0      0.0         0.0      0.0   \n",
       "143     0.0     0.0     0.0     0.0      0.0         0.0      1.0   \n",
       "144     0.0     0.0     0.0     0.0      0.0         0.0      1.0   \n",
       "145     0.0     1.0     0.0     0.0      0.0         1.0      0.0   \n",
       "146     0.0     0.0     1.0     0.0      0.0         1.0      0.0   \n",
       "\n",
       "     (Strength,)  (Yoga,)  \n",
       "0            0.0      0.0  \n",
       "1            0.0      0.0  \n",
       "2            0.0      0.0  \n",
       "3            0.0      0.0  \n",
       "4            0.0      0.0  \n",
       "..           ...      ...  \n",
       "142          1.0      0.0  \n",
       "143          0.0      0.0  \n",
       "144          0.0      0.0  \n",
       "145          0.0      0.0  \n",
       "146          0.0      0.0  \n",
       "\n",
       "[147 rows x 16 columns]"
      ]
     },
     "execution_count": 158,
     "metadata": {},
     "output_type": "execute_result"
    }
   ],
   "source": [
    "X_test"
   ]
  },
  {
   "cell_type": "code",
   "execution_count": 159,
   "metadata": {},
   "outputs": [],
   "source": [
    "X_test_scaled = scaler.transform(X_test.iloc[:, 0:3].to_numpy())\n",
    "X_test_scaled = pd.DataFrame(X_test_scaled, columns=[\"months_scaled\", \"weight_scaled\", \"days_scaled\"])\n",
    "X_test.months_as_member = X_test_scaled.months_scaled\n",
    "X_test.weight = X_test_scaled.weight_scaled\n",
    "X_test.days_before = X_test_scaled.days_scaled"
   ]
  },
  {
   "cell_type": "code",
   "execution_count": 160,
   "metadata": {},
   "outputs": [
    {
     "data": {
      "text/html": [
       "<div>\n",
       "<style scoped>\n",
       "    .dataframe tbody tr th:only-of-type {\n",
       "        vertical-align: middle;\n",
       "    }\n",
       "\n",
       "    .dataframe tbody tr th {\n",
       "        vertical-align: top;\n",
       "    }\n",
       "\n",
       "    .dataframe thead th {\n",
       "        text-align: right;\n",
       "    }\n",
       "</style>\n",
       "<table border=\"1\" class=\"dataframe\">\n",
       "  <thead>\n",
       "    <tr style=\"text-align: right;\">\n",
       "      <th></th>\n",
       "      <th>months_as_member</th>\n",
       "      <th>weight</th>\n",
       "      <th>days_before</th>\n",
       "      <th>time</th>\n",
       "      <th>(Fri,)</th>\n",
       "      <th>(Mon,)</th>\n",
       "      <th>(Sat,)</th>\n",
       "      <th>(Sun,)</th>\n",
       "      <th>(Thu,)</th>\n",
       "      <th>(Tue,)</th>\n",
       "      <th>(Wed,)</th>\n",
       "      <th>(Aqua,)</th>\n",
       "      <th>(Cycling,)</th>\n",
       "      <th>(HIIT,)</th>\n",
       "      <th>(Strength,)</th>\n",
       "      <th>(Yoga,)</th>\n",
       "    </tr>\n",
       "  </thead>\n",
       "  <tbody>\n",
       "    <tr>\n",
       "      <th>0</th>\n",
       "      <td>-0.818182</td>\n",
       "      <td>0.597411</td>\n",
       "      <td>0.125</td>\n",
       "      <td>1</td>\n",
       "      <td>1.0</td>\n",
       "      <td>0.0</td>\n",
       "      <td>0.0</td>\n",
       "      <td>0.0</td>\n",
       "      <td>0.0</td>\n",
       "      <td>0.0</td>\n",
       "      <td>0.0</td>\n",
       "      <td>0.0</td>\n",
       "      <td>0.0</td>\n",
       "      <td>1.0</td>\n",
       "      <td>0.0</td>\n",
       "      <td>0.0</td>\n",
       "    </tr>\n",
       "    <tr>\n",
       "      <th>1</th>\n",
       "      <td>-0.363636</td>\n",
       "      <td>0.753393</td>\n",
       "      <td>0.125</td>\n",
       "      <td>1</td>\n",
       "      <td>1.0</td>\n",
       "      <td>0.0</td>\n",
       "      <td>0.0</td>\n",
       "      <td>0.0</td>\n",
       "      <td>0.0</td>\n",
       "      <td>0.0</td>\n",
       "      <td>0.0</td>\n",
       "      <td>0.0</td>\n",
       "      <td>1.0</td>\n",
       "      <td>0.0</td>\n",
       "      <td>0.0</td>\n",
       "      <td>0.0</td>\n",
       "    </tr>\n",
       "    <tr>\n",
       "      <th>2</th>\n",
       "      <td>-0.727273</td>\n",
       "      <td>1.022929</td>\n",
       "      <td>-0.625</td>\n",
       "      <td>0</td>\n",
       "      <td>0.0</td>\n",
       "      <td>0.0</td>\n",
       "      <td>0.0</td>\n",
       "      <td>0.0</td>\n",
       "      <td>0.0</td>\n",
       "      <td>1.0</td>\n",
       "      <td>0.0</td>\n",
       "      <td>0.0</td>\n",
       "      <td>0.0</td>\n",
       "      <td>1.0</td>\n",
       "      <td>0.0</td>\n",
       "      <td>0.0</td>\n",
       "    </tr>\n",
       "    <tr>\n",
       "      <th>3</th>\n",
       "      <td>-0.272727</td>\n",
       "      <td>0.085166</td>\n",
       "      <td>0.125</td>\n",
       "      <td>0</td>\n",
       "      <td>0.0</td>\n",
       "      <td>0.0</td>\n",
       "      <td>0.0</td>\n",
       "      <td>0.0</td>\n",
       "      <td>1.0</td>\n",
       "      <td>0.0</td>\n",
       "      <td>0.0</td>\n",
       "      <td>0.0</td>\n",
       "      <td>0.0</td>\n",
       "      <td>1.0</td>\n",
       "      <td>0.0</td>\n",
       "      <td>0.0</td>\n",
       "    </tr>\n",
       "    <tr>\n",
       "      <th>4</th>\n",
       "      <td>3.272727</td>\n",
       "      <td>-0.772110</td>\n",
       "      <td>0.125</td>\n",
       "      <td>1</td>\n",
       "      <td>1.0</td>\n",
       "      <td>0.0</td>\n",
       "      <td>0.0</td>\n",
       "      <td>0.0</td>\n",
       "      <td>0.0</td>\n",
       "      <td>0.0</td>\n",
       "      <td>0.0</td>\n",
       "      <td>0.0</td>\n",
       "      <td>0.0</td>\n",
       "      <td>1.0</td>\n",
       "      <td>0.0</td>\n",
       "      <td>0.0</td>\n",
       "    </tr>\n",
       "    <tr>\n",
       "      <th>...</th>\n",
       "      <td>...</td>\n",
       "      <td>...</td>\n",
       "      <td>...</td>\n",
       "      <td>...</td>\n",
       "      <td>...</td>\n",
       "      <td>...</td>\n",
       "      <td>...</td>\n",
       "      <td>...</td>\n",
       "      <td>...</td>\n",
       "      <td>...</td>\n",
       "      <td>...</td>\n",
       "      <td>...</td>\n",
       "      <td>...</td>\n",
       "      <td>...</td>\n",
       "      <td>...</td>\n",
       "      <td>...</td>\n",
       "    </tr>\n",
       "    <tr>\n",
       "      <th>142</th>\n",
       "      <td>1.909091</td>\n",
       "      <td>-0.593667</td>\n",
       "      <td>0.250</td>\n",
       "      <td>1</td>\n",
       "      <td>1.0</td>\n",
       "      <td>0.0</td>\n",
       "      <td>0.0</td>\n",
       "      <td>0.0</td>\n",
       "      <td>0.0</td>\n",
       "      <td>0.0</td>\n",
       "      <td>0.0</td>\n",
       "      <td>0.0</td>\n",
       "      <td>0.0</td>\n",
       "      <td>0.0</td>\n",
       "      <td>1.0</td>\n",
       "      <td>0.0</td>\n",
       "    </tr>\n",
       "    <tr>\n",
       "      <th>143</th>\n",
       "      <td>-0.272727</td>\n",
       "      <td>1.958197</td>\n",
       "      <td>0.125</td>\n",
       "      <td>1</td>\n",
       "      <td>1.0</td>\n",
       "      <td>0.0</td>\n",
       "      <td>0.0</td>\n",
       "      <td>0.0</td>\n",
       "      <td>0.0</td>\n",
       "      <td>0.0</td>\n",
       "      <td>0.0</td>\n",
       "      <td>0.0</td>\n",
       "      <td>0.0</td>\n",
       "      <td>1.0</td>\n",
       "      <td>0.0</td>\n",
       "      <td>0.0</td>\n",
       "    </tr>\n",
       "    <tr>\n",
       "      <th>144</th>\n",
       "      <td>-0.909091</td>\n",
       "      <td>1.399782</td>\n",
       "      <td>0.375</td>\n",
       "      <td>0</td>\n",
       "      <td>0.0</td>\n",
       "      <td>0.0</td>\n",
       "      <td>1.0</td>\n",
       "      <td>0.0</td>\n",
       "      <td>0.0</td>\n",
       "      <td>0.0</td>\n",
       "      <td>0.0</td>\n",
       "      <td>0.0</td>\n",
       "      <td>0.0</td>\n",
       "      <td>1.0</td>\n",
       "      <td>0.0</td>\n",
       "      <td>0.0</td>\n",
       "    </tr>\n",
       "    <tr>\n",
       "      <th>145</th>\n",
       "      <td>-0.454545</td>\n",
       "      <td>0.527531</td>\n",
       "      <td>0.000</td>\n",
       "      <td>0</td>\n",
       "      <td>0.0</td>\n",
       "      <td>0.0</td>\n",
       "      <td>0.0</td>\n",
       "      <td>0.0</td>\n",
       "      <td>1.0</td>\n",
       "      <td>0.0</td>\n",
       "      <td>0.0</td>\n",
       "      <td>0.0</td>\n",
       "      <td>1.0</td>\n",
       "      <td>0.0</td>\n",
       "      <td>0.0</td>\n",
       "      <td>0.0</td>\n",
       "    </tr>\n",
       "    <tr>\n",
       "      <th>146</th>\n",
       "      <td>-0.090909</td>\n",
       "      <td>1.067228</td>\n",
       "      <td>-0.500</td>\n",
       "      <td>0</td>\n",
       "      <td>0.0</td>\n",
       "      <td>0.0</td>\n",
       "      <td>0.0</td>\n",
       "      <td>0.0</td>\n",
       "      <td>0.0</td>\n",
       "      <td>1.0</td>\n",
       "      <td>0.0</td>\n",
       "      <td>0.0</td>\n",
       "      <td>1.0</td>\n",
       "      <td>0.0</td>\n",
       "      <td>0.0</td>\n",
       "      <td>0.0</td>\n",
       "    </tr>\n",
       "  </tbody>\n",
       "</table>\n",
       "<p>147 rows × 16 columns</p>\n",
       "</div>"
      ],
      "text/plain": [
       "     months_as_member    weight  days_before  time  (Fri,)  (Mon,)  (Sat,)  \\\n",
       "0           -0.818182  0.597411        0.125     1     1.0     0.0     0.0   \n",
       "1           -0.363636  0.753393        0.125     1     1.0     0.0     0.0   \n",
       "2           -0.727273  1.022929       -0.625     0     0.0     0.0     0.0   \n",
       "3           -0.272727  0.085166        0.125     0     0.0     0.0     0.0   \n",
       "4            3.272727 -0.772110        0.125     1     1.0     0.0     0.0   \n",
       "..                ...       ...          ...   ...     ...     ...     ...   \n",
       "142          1.909091 -0.593667        0.250     1     1.0     0.0     0.0   \n",
       "143         -0.272727  1.958197        0.125     1     1.0     0.0     0.0   \n",
       "144         -0.909091  1.399782        0.375     0     0.0     0.0     1.0   \n",
       "145         -0.454545  0.527531        0.000     0     0.0     0.0     0.0   \n",
       "146         -0.090909  1.067228       -0.500     0     0.0     0.0     0.0   \n",
       "\n",
       "     (Sun,)  (Thu,)  (Tue,)  (Wed,)  (Aqua,)  (Cycling,)  (HIIT,)  \\\n",
       "0       0.0     0.0     0.0     0.0      0.0         0.0      1.0   \n",
       "1       0.0     0.0     0.0     0.0      0.0         1.0      0.0   \n",
       "2       0.0     0.0     1.0     0.0      0.0         0.0      1.0   \n",
       "3       0.0     1.0     0.0     0.0      0.0         0.0      1.0   \n",
       "4       0.0     0.0     0.0     0.0      0.0         0.0      1.0   \n",
       "..      ...     ...     ...     ...      ...         ...      ...   \n",
       "142     0.0     0.0     0.0     0.0      0.0         0.0      0.0   \n",
       "143     0.0     0.0     0.0     0.0      0.0         0.0      1.0   \n",
       "144     0.0     0.0     0.0     0.0      0.0         0.0      1.0   \n",
       "145     0.0     1.0     0.0     0.0      0.0         1.0      0.0   \n",
       "146     0.0     0.0     1.0     0.0      0.0         1.0      0.0   \n",
       "\n",
       "     (Strength,)  (Yoga,)  \n",
       "0            0.0      0.0  \n",
       "1            0.0      0.0  \n",
       "2            0.0      0.0  \n",
       "3            0.0      0.0  \n",
       "4            0.0      0.0  \n",
       "..           ...      ...  \n",
       "142          1.0      0.0  \n",
       "143          0.0      0.0  \n",
       "144          0.0      0.0  \n",
       "145          0.0      0.0  \n",
       "146          0.0      0.0  \n",
       "\n",
       "[147 rows x 16 columns]"
      ]
     },
     "execution_count": 160,
     "metadata": {},
     "output_type": "execute_result"
    }
   ],
   "source": [
    "X_test"
   ]
  },
  {
   "cell_type": "markdown",
   "metadata": {},
   "source": [
    "## Re-balancing"
   ]
  },
  {
   "cell_type": "markdown",
   "metadata": {},
   "source": [
    "Less than 30% of all records are 1 (dataset is quite imbalanced)"
   ]
  },
  {
   "cell_type": "code",
   "execution_count": 161,
   "metadata": {},
   "outputs": [],
   "source": [
    "# Creating an instance of SMOTE\n",
    "smote = SMOTE()\n",
    "\n",
    "# Balancing the data\n",
    "X_resampled, y_resampled = smote.fit_resample(X_train_scaled, y_train)"
   ]
  },
  {
   "cell_type": "markdown",
   "metadata": {},
   "source": [
    "# Classification"
   ]
  },
  {
   "cell_type": "markdown",
   "metadata": {},
   "source": [
    "## Baseline logistic regression"
   ]
  },
  {
   "cell_type": "code",
   "execution_count": 96,
   "metadata": {},
   "outputs": [
    {
     "name": "stdout",
     "output_type": "stream",
     "text": [
      "Accuracy: 0.782312925170068\n",
      "F1 Score: 0.6444444444444444\n",
      "Recall: 0.6904761904761905\n",
      "Precision: 0.6041666666666666\n",
      "Confusion Matrix:\n",
      " [[86 19]\n",
      " [13 29]]\n"
     ]
    },
    {
     "data": {
      "text/plain": [
       "<AxesSubplot:>"
      ]
     },
     "execution_count": 96,
     "metadata": {},
     "output_type": "execute_result"
    },
    {
     "data": {
      "image/png": "[encoded data removed]",
      "text/plain": [
       "<Figure size 432x288 with 2 Axes>"
      ]
     },
     "metadata": {
      "needs_background": "light"
     },
     "output_type": "display_data"
    }
   ],
   "source": [
    "# LBFGS solver\n",
    "clf = LogisticRegression(random_state=0, max_iter=1000).fit(X_resampled, y_resampled)\n",
    "y_true = y_test\n",
    "y_pred = clf.predict(X_test)\n",
    "print(\"Accuracy:\", clf.score(X_test, y_test))\n",
    "print(\"F1 Score:\", f1_score(y_true, y_pred))\n",
    "print(\"Recall:\", recall_score(y_true, y_pred))\n",
    "print(\"Precision:\", precision_score(y_true, y_pred))\n",
    "print(\"Confusion Matrix:\\n\", confusion_matrix(y_true, y_pred))\n",
    "      \n",
    "sns.heatmap(confusion_matrix(y_true, y_pred), annot=True)"
   ]
  },
  {
   "cell_type": "markdown",
   "metadata": {},
   "source": [
    "## Support Vector Machine"
   ]
  },
  {
   "cell_type": "code",
   "execution_count": 196,
   "metadata": {},
   "outputs": [
    {
     "name": "stdout",
     "output_type": "stream",
     "text": [
      "Accuracy: 0.7619047619047619\n",
      "F1 Score: 0.6464646464646465\n",
      "Recall: 0.7619047619047619\n",
      "Precision: 0.5614035087719298\n",
      "Confusion Matrix:\n",
      " [[80 25]\n",
      " [10 32]]\n"
     ]
    }
   ],
   "source": [
    "from sklearn.svm import SVC\n",
    "svc = SVC(probability=True)\n",
    "svc.fit(X_resampled, y_resampled)\n",
    "y_true = y_test\n",
    "y_pred = svc.predict(X_test)\n",
    "print(\"Accuracy:\", svc.score(X_test, y_test))\n",
    "print(\"F1 Score:\", f1_score(y_true, y_pred))\n",
    "print(\"Recall:\", recall_score(y_true, y_pred))\n",
    "print(\"Precision:\", precision_score(y_true, y_pred))\n",
    "print(\"Confusion Matrix:\\n\", confusion_matrix(y_true, y_pred))"
   ]
  },
  {
   "cell_type": "code",
   "execution_count": 219,
   "metadata": {},
   "outputs": [
    {
     "data": {
      "image/png": "[encoded data removed]",
      "text/plain": [
       "<Figure size 432x288 with 2 Axes>"
      ]
     },
     "metadata": {
      "needs_background": "light"
     },
     "output_type": "display_data"
    }
   ],
   "source": [
    "fig = sns.heatmap(confusion_matrix(y_true, y_pred), annot=True)\n",
    "plt.xlabel(\"Predicted\")\n",
    "plt.ylabel(\"True\");"
   ]
  },
  {
   "cell_type": "markdown",
   "metadata": {},
   "source": [
    "## Random Forest Classifier"
   ]
  },
  {
   "cell_type": "code",
   "execution_count": 95,
   "metadata": {},
   "outputs": [
    {
     "name": "stdout",
     "output_type": "stream",
     "text": [
      "Accuracy: 0.7346938775510204\n",
      "F1 Score: 0.6213592233009708\n",
      "Recall: 0.7619047619047619\n",
      "Precision: 0.5245901639344263\n",
      "Confusion Matrix:\n",
      " [[76 29]\n",
      " [10 32]]\n"
     ]
    }
   ],
   "source": [
    "clf = RandomForestClassifier(max_depth=2, random_state=0)\n",
    "clf.fit(X_resampled, y_resampled)\n",
    "y_true = y_test\n",
    "y_pred = clf.predict(X_test)\n",
    "print(\"Accuracy:\", clf.score(X_test, y_test))\n",
    "print(\"F1 Score:\", f1_score(y_true, y_pred))\n",
    "print(\"Recall:\", recall_score(y_true, y_pred))\n",
    "print(\"Precision:\", precision_score(y_true, y_pred))\n",
    "print(\"Confusion Matrix:\\n\", confusion_matrix(y_true, y_pred))"
   ]
  },
  {
   "cell_type": "code",
   "execution_count": 36,
   "metadata": {},
   "outputs": [
    {
     "data": {
      "text/plain": [
       "<AxesSubplot:>"
      ]
     },
     "execution_count": 36,
     "metadata": {},
     "output_type": "execute_result"
    },
    {
     "data": {
      "image/png": "[encoded data removed]",
      "text/plain": [
       "<Figure size 432x288 with 2 Axes>"
      ]
     },
     "metadata": {
      "needs_background": "light"
     },
     "output_type": "display_data"
    }
   ],
   "source": [
    "sns.heatmap(confusion_matrix(y_true, y_pred), annot=True)"
   ]
  },
  {
   "cell_type": "markdown",
   "metadata": {},
   "source": [
    "## Gradient Boosting Classifier"
   ]
  },
  {
   "cell_type": "code",
   "execution_count": 78,
   "metadata": {},
   "outputs": [
    {
     "name": "stdout",
     "output_type": "stream",
     "text": [
      "Accuracy: 0.7482993197278912\n",
      "F1 Score: 0.6105263157894737\n",
      "Recall: 0.6904761904761905\n",
      "Precision: 0.5471698113207547\n",
      "Confusion Matrix:\n",
      " [[81 24]\n",
      " [13 29]]\n"
     ]
    },
    {
     "data": {
      "text/plain": [
       "<AxesSubplot:>"
      ]
     },
     "execution_count": 78,
     "metadata": {},
     "output_type": "execute_result"
    },
    {
     "data": {
      "image/png": "[encoded data removed]",
      "text/plain": [
       "<Figure size 432x288 with 2 Axes>"
      ]
     },
     "metadata": {
      "needs_background": "light"
     },
     "output_type": "display_data"
    }
   ],
   "source": [
    "from sklearn.ensemble import GradientBoostingClassifier\n",
    "\n",
    "clf = GradientBoostingClassifier(n_estimators=100, learning_rate=1.0, max_depth=1, random_state=0).fit(X_resampled, y_resampled)\n",
    "y_true = y_test\n",
    "y_pred = clf.predict(X_test)\n",
    "print(\"Accuracy:\", clf.score(X_test, y_test))\n",
    "print(\"F1 Score:\", f1_score(y_true, y_pred))\n",
    "print(\"Recall:\", recall_score(y_true, y_pred))\n",
    "print(\"Precision:\", precision_score(y_true, y_pred))\n",
    "print(\"Confusion Matrix:\\n\", confusion_matrix(y_true, y_pred))\n",
    "sns.heatmap(confusion_matrix(y_true, y_pred), annot=True)"
   ]
  },
  {
   "cell_type": "markdown",
   "metadata": {},
   "source": [
    "### Gridsearch of Random Forest"
   ]
  },
  {
   "cell_type": "code",
   "execution_count": 98,
   "metadata": {},
   "outputs": [
    {
     "data": {
      "text/html": [
       "<style>#sk-container-id-5 {color: black;background-color: white;}#sk-container-id-5 pre{padding: 0;}#sk-container-id-5 div.sk-toggleable {background-color: white;}#sk-container-id-5 label.sk-toggleable__label {cursor: pointer;display: block;width: 100%;margin-bottom: 0;padding: 0.3em;box-sizing: border-box;text-align: center;}#sk-container-id-5 label.sk-toggleable__label-arrow:before {content: \"▸\";float: left;margin-right: 0.25em;color: #696969;}#sk-container-id-5 label.sk-toggleable__label-arrow:hover:before {color: black;}#sk-container-id-5 div.sk-estimator:hover label.sk-toggleable__label-arrow:before {color: black;}#sk-container-id-5 div.sk-toggleable__content {max-height: 0;max-width: 0;overflow: hidden;text-align: left;background-color: #f0f8ff;}#sk-container-id-5 div.sk-toggleable__content pre {margin: 0.2em;color: black;border-radius: 0.25em;background-color: #f0f8ff;}#sk-container-id-5 input.sk-toggleable__control:checked~div.sk-toggleable__content {max-height: 200px;max-width: 100%;overflow: auto;}#sk-container-id-5 input.sk-toggleable__control:checked~label.sk-toggleable__label-arrow:before {content: \"▾\";}#sk-container-id-5 div.sk-estimator input.sk-toggleable__control:checked~label.sk-toggleable__label {background-color: #d4ebff;}#sk-container-id-5 div.sk-label input.sk-toggleable__control:checked~label.sk-toggleable__label {background-color: #d4ebff;}#sk-container-id-5 input.sk-hidden--visually {border: 0;clip: rect(1px 1px 1px 1px);clip: rect(1px, 1px, 1px, 1px);height: 1px;margin: -1px;overflow: hidden;padding: 0;position: absolute;width: 1px;}#sk-container-id-5 div.sk-estimator {font-family: monospace;background-color: #f0f8ff;border: 1px dotted black;border-radius: 0.25em;box-sizing: border-box;margin-bottom: 0.5em;}#sk-container-id-5 div.sk-estimator:hover {background-color: #d4ebff;}#sk-container-id-5 div.sk-parallel-item::after {content: \"\";width: 100%;border-bottom: 1px solid gray;flex-grow: 1;}#sk-container-id-5 div.sk-label:hover label.sk-toggleable__label {background-color: #d4ebff;}#sk-container-id-5 div.sk-serial::before {content: \"\";position: absolute;border-left: 1px solid gray;box-sizing: border-box;top: 0;bottom: 0;left: 50%;z-index: 0;}#sk-container-id-5 div.sk-serial {display: flex;flex-direction: column;align-items: center;background-color: white;padding-right: 0.2em;padding-left: 0.2em;position: relative;}#sk-container-id-5 div.sk-item {position: relative;z-index: 1;}#sk-container-id-5 div.sk-parallel {display: flex;align-items: stretch;justify-content: center;background-color: white;position: relative;}#sk-container-id-5 div.sk-item::before, #sk-container-id-5 div.sk-parallel-item::before {content: \"\";position: absolute;border-left: 1px solid gray;box-sizing: border-box;top: 0;bottom: 0;left: 50%;z-index: -1;}#sk-container-id-5 div.sk-parallel-item {display: flex;flex-direction: column;z-index: 1;position: relative;background-color: white;}#sk-container-id-5 div.sk-parallel-item:first-child::after {align-self: flex-end;width: 50%;}#sk-container-id-5 div.sk-parallel-item:last-child::after {align-self: flex-start;width: 50%;}#sk-container-id-5 div.sk-parallel-item:only-child::after {width: 0;}#sk-container-id-5 div.sk-dashed-wrapped {border: 1px dashed gray;margin: 0 0.4em 0.5em 0.4em;box-sizing: border-box;padding-bottom: 0.4em;background-color: white;}#sk-container-id-5 div.sk-label label {font-family: monospace;font-weight: bold;display: inline-block;line-height: 1.2em;}#sk-container-id-5 div.sk-label-container {text-align: center;}#sk-container-id-5 div.sk-container {/* jupyter's `normalize.less` sets `[hidden] { display: none; }` but bootstrap.min.css set `[hidden] { display: none !important; }` so we also need the `!important` here to be able to override the default hidden behavior on the sphinx rendered scikit-learn.org. See: https://github.com/scikit-learn/scikit-learn/issues/21755 */display: inline-block !important;position: relative;}#sk-container-id-5 div.sk-text-repr-fallback {display: none;}</style><div id=\"sk-container-id-5\" class=\"sk-top-container\"><div class=\"sk-text-repr-fallback\"><pre>GridSearchCV(estimator=RandomForestClassifier(),\n",
       "             param_grid={&#x27;max_depth&#x27;: [1, 2, 3, 4, 5],\n",
       "                         &#x27;min_samples_leaf&#x27;: [1, 2, 3, 4],\n",
       "                         &#x27;min_samples_split&#x27;: [2, 4, 6, 8],\n",
       "                         &#x27;n_estimators&#x27;: array([ 10,  31,  52,  73,  94, 115, 136, 157, 178, 200])})</pre><b>In a Jupyter environment, please rerun this cell to show the HTML representation or trust the notebook. <br />On GitHub, the HTML representation is unable to render, please try loading this page with nbviewer.org.</b></div><div class=\"sk-container\" hidden><div class=\"sk-item sk-dashed-wrapped\"><div class=\"sk-label-container\"><div class=\"sk-label sk-toggleable\"><input class=\"sk-toggleable__control sk-hidden--visually\" id=\"sk-estimator-id-13\" type=\"checkbox\" ><label for=\"sk-estimator-id-13\" class=\"sk-toggleable__label sk-toggleable__label-arrow\">GridSearchCV</label><div class=\"sk-toggleable__content\"><pre>GridSearchCV(estimator=RandomForestClassifier(),\n",
       "             param_grid={&#x27;max_depth&#x27;: [1, 2, 3, 4, 5],\n",
       "                         &#x27;min_samples_leaf&#x27;: [1, 2, 3, 4],\n",
       "                         &#x27;min_samples_split&#x27;: [2, 4, 6, 8],\n",
       "                         &#x27;n_estimators&#x27;: array([ 10,  31,  52,  73,  94, 115, 136, 157, 178, 200])})</pre></div></div></div><div class=\"sk-parallel\"><div class=\"sk-parallel-item\"><div class=\"sk-item\"><div class=\"sk-label-container\"><div class=\"sk-label sk-toggleable\"><input class=\"sk-toggleable__control sk-hidden--visually\" id=\"sk-estimator-id-14\" type=\"checkbox\" ><label for=\"sk-estimator-id-14\" class=\"sk-toggleable__label sk-toggleable__label-arrow\">estimator: RandomForestClassifier</label><div class=\"sk-toggleable__content\"><pre>RandomForestClassifier()</pre></div></div></div><div class=\"sk-serial\"><div class=\"sk-item\"><div class=\"sk-estimator sk-toggleable\"><input class=\"sk-toggleable__control sk-hidden--visually\" id=\"sk-estimator-id-15\" type=\"checkbox\" ><label for=\"sk-estimator-id-15\" class=\"sk-toggleable__label sk-toggleable__label-arrow\">RandomForestClassifier</label><div class=\"sk-toggleable__content\"><pre>RandomForestClassifier()</pre></div></div></div></div></div></div></div></div></div></div>"
      ],
      "text/plain": [
       "GridSearchCV(estimator=RandomForestClassifier(),\n",
       "             param_grid={'max_depth': [1, 2, 3, 4, 5],\n",
       "                         'min_samples_leaf': [1, 2, 3, 4],\n",
       "                         'min_samples_split': [2, 4, 6, 8],\n",
       "                         'n_estimators': array([ 10,  31,  52,  73,  94, 115, 136, 157, 178, 200])})"
      ]
     },
     "execution_count": 98,
     "metadata": {},
     "output_type": "execute_result"
    }
   ],
   "source": [
    "parameters = {'n_estimators': np.linspace(10,200,10,dtype=int), 'min_samples_split':[2, 4, 6, 8],\n",
    "              'min_samples_leaf':[1, 2, 3, 4], 'max_depth':[1, 2, 3, 4, 5]}\n",
    "rf = RandomForestClassifier()\n",
    "clf = GridSearchCV(rf, parameters)\n",
    "clf.fit(X_resampled, y_resampled)"
   ]
  },
  {
   "cell_type": "code",
   "execution_count": 99,
   "metadata": {},
   "outputs": [
    {
     "data": {
      "text/plain": [
       "{'max_depth': 5,\n",
       " 'min_samples_leaf': 4,\n",
       " 'min_samples_split': 4,\n",
       " 'n_estimators': 73}"
      ]
     },
     "execution_count": 99,
     "metadata": {},
     "output_type": "execute_result"
    }
   ],
   "source": [
    "clf.best_params_"
   ]
  },
  {
   "cell_type": "code",
   "execution_count": 100,
   "metadata": {},
   "outputs": [
    {
     "name": "stdout",
     "output_type": "stream",
     "text": [
      "Accuracy: 0.7619047619047619\n",
      "F1 Score: 0.5070422535211268\n",
      "RECALL: 0.42857142857142855\n",
      "Precision: 0.6206896551724138\n",
      "Confusion Matrix:\n",
      " [[94 11]\n",
      " [24 18]]\n"
     ]
    },
    {
     "data": {
      "image/png": "[encoded data removed]",
      "text/plain": [
       "<Figure size 432x288 with 2 Axes>"
      ]
     },
     "metadata": {
      "needs_background": "light"
     },
     "output_type": "display_data"
    }
   ],
   "source": [
    "rf = RandomForestClassifier(max_depth=5, min_samples_leaf=4, min_samples_split=4, n_estimators=73)\n",
    "rf.fit(X_resampled, y_resampled)\n",
    "y_true = y_test\n",
    "y_pred = svc.predict(X_test)\n",
    "print(\"Accuracy:\", svc.score(X_test, y_test))\n",
    "print(\"F1 Score:\", f1_score(y_true, y_pred))\n",
    "print(\"RECALL:\", recall_score(y_true, y_pred))\n",
    "print(\"Precision:\", precision_score(y_true, y_pred))\n",
    "print(\"Confusion Matrix:\\n\", confusion_matrix(y_true, y_pred))\n",
    "fig = sns.heatmap(confusion_matrix(y_true, y_pred), annot=True)\n",
    "plt.xlabel(\"Predicted\")\n",
    "plt.ylabel(\"True\");"
   ]
  },
  {
   "cell_type": "markdown",
   "metadata": {},
   "source": [
    "# Grid searches"
   ]
  },
  {
   "cell_type": "markdown",
   "metadata": {},
   "source": [
    "### Gridsearch for SVC"
   ]
  },
  {
   "cell_type": "code",
   "execution_count": 79,
   "metadata": {},
   "outputs": [
    {
     "data": {
      "text/html": [
       "<style>#sk-container-id-2 {color: black;background-color: white;}#sk-container-id-2 pre{padding: 0;}#sk-container-id-2 div.sk-toggleable {background-color: white;}#sk-container-id-2 label.sk-toggleable__label {cursor: pointer;display: block;width: 100%;margin-bottom: 0;padding: 0.3em;box-sizing: border-box;text-align: center;}#sk-container-id-2 label.sk-toggleable__label-arrow:before {content: \"▸\";float: left;margin-right: 0.25em;color: #696969;}#sk-container-id-2 label.sk-toggleable__label-arrow:hover:before {color: black;}#sk-container-id-2 div.sk-estimator:hover label.sk-toggleable__label-arrow:before {color: black;}#sk-container-id-2 div.sk-toggleable__content {max-height: 0;max-width: 0;overflow: hidden;text-align: left;background-color: #f0f8ff;}#sk-container-id-2 div.sk-toggleable__content pre {margin: 0.2em;color: black;border-radius: 0.25em;background-color: #f0f8ff;}#sk-container-id-2 input.sk-toggleable__control:checked~div.sk-toggleable__content {max-height: 200px;max-width: 100%;overflow: auto;}#sk-container-id-2 input.sk-toggleable__control:checked~label.sk-toggleable__label-arrow:before {content: \"▾\";}#sk-container-id-2 div.sk-estimator input.sk-toggleable__control:checked~label.sk-toggleable__label {background-color: #d4ebff;}#sk-container-id-2 div.sk-label input.sk-toggleable__control:checked~label.sk-toggleable__label {background-color: #d4ebff;}#sk-container-id-2 input.sk-hidden--visually {border: 0;clip: rect(1px 1px 1px 1px);clip: rect(1px, 1px, 1px, 1px);height: 1px;margin: -1px;overflow: hidden;padding: 0;position: absolute;width: 1px;}#sk-container-id-2 div.sk-estimator {font-family: monospace;background-color: #f0f8ff;border: 1px dotted black;border-radius: 0.25em;box-sizing: border-box;margin-bottom: 0.5em;}#sk-container-id-2 div.sk-estimator:hover {background-color: #d4ebff;}#sk-container-id-2 div.sk-parallel-item::after {content: \"\";width: 100%;border-bottom: 1px solid gray;flex-grow: 1;}#sk-container-id-2 div.sk-label:hover label.sk-toggleable__label {background-color: #d4ebff;}#sk-container-id-2 div.sk-serial::before {content: \"\";position: absolute;border-left: 1px solid gray;box-sizing: border-box;top: 0;bottom: 0;left: 50%;z-index: 0;}#sk-container-id-2 div.sk-serial {display: flex;flex-direction: column;align-items: center;background-color: white;padding-right: 0.2em;padding-left: 0.2em;position: relative;}#sk-container-id-2 div.sk-item {position: relative;z-index: 1;}#sk-container-id-2 div.sk-parallel {display: flex;align-items: stretch;justify-content: center;background-color: white;position: relative;}#sk-container-id-2 div.sk-item::before, #sk-container-id-2 div.sk-parallel-item::before {content: \"\";position: absolute;border-left: 1px solid gray;box-sizing: border-box;top: 0;bottom: 0;left: 50%;z-index: -1;}#sk-container-id-2 div.sk-parallel-item {display: flex;flex-direction: column;z-index: 1;position: relative;background-color: white;}#sk-container-id-2 div.sk-parallel-item:first-child::after {align-self: flex-end;width: 50%;}#sk-container-id-2 div.sk-parallel-item:last-child::after {align-self: flex-start;width: 50%;}#sk-container-id-2 div.sk-parallel-item:only-child::after {width: 0;}#sk-container-id-2 div.sk-dashed-wrapped {border: 1px dashed gray;margin: 0 0.4em 0.5em 0.4em;box-sizing: border-box;padding-bottom: 0.4em;background-color: white;}#sk-container-id-2 div.sk-label label {font-family: monospace;font-weight: bold;display: inline-block;line-height: 1.2em;}#sk-container-id-2 div.sk-label-container {text-align: center;}#sk-container-id-2 div.sk-container {/* jupyter's `normalize.less` sets `[hidden] { display: none; }` but bootstrap.min.css set `[hidden] { display: none !important; }` so we also need the `!important` here to be able to override the default hidden behavior on the sphinx rendered scikit-learn.org. See: https://github.com/scikit-learn/scikit-learn/issues/21755 */display: inline-block !important;position: relative;}#sk-container-id-2 div.sk-text-repr-fallback {display: none;}</style><div id=\"sk-container-id-2\" class=\"sk-top-container\"><div class=\"sk-text-repr-fallback\"><pre>GridSearchCV(estimator=SVC(),\n",
       "             param_grid={&#x27;C&#x27;: [1, 10, 20, 50],\n",
       "                         &#x27;kernel&#x27;: (&#x27;linear&#x27;, &#x27;rbf&#x27;, &#x27;poly&#x27;, &#x27;sigmoid&#x27;)})</pre><b>In a Jupyter environment, please rerun this cell to show the HTML representation or trust the notebook. <br />On GitHub, the HTML representation is unable to render, please try loading this page with nbviewer.org.</b></div><div class=\"sk-container\" hidden><div class=\"sk-item sk-dashed-wrapped\"><div class=\"sk-label-container\"><div class=\"sk-label sk-toggleable\"><input class=\"sk-toggleable__control sk-hidden--visually\" id=\"sk-estimator-id-4\" type=\"checkbox\" ><label for=\"sk-estimator-id-4\" class=\"sk-toggleable__label sk-toggleable__label-arrow\">GridSearchCV</label><div class=\"sk-toggleable__content\"><pre>GridSearchCV(estimator=SVC(),\n",
       "             param_grid={&#x27;C&#x27;: [1, 10, 20, 50],\n",
       "                         &#x27;kernel&#x27;: (&#x27;linear&#x27;, &#x27;rbf&#x27;, &#x27;poly&#x27;, &#x27;sigmoid&#x27;)})</pre></div></div></div><div class=\"sk-parallel\"><div class=\"sk-parallel-item\"><div class=\"sk-item\"><div class=\"sk-label-container\"><div class=\"sk-label sk-toggleable\"><input class=\"sk-toggleable__control sk-hidden--visually\" id=\"sk-estimator-id-5\" type=\"checkbox\" ><label for=\"sk-estimator-id-5\" class=\"sk-toggleable__label sk-toggleable__label-arrow\">estimator: SVC</label><div class=\"sk-toggleable__content\"><pre>SVC()</pre></div></div></div><div class=\"sk-serial\"><div class=\"sk-item\"><div class=\"sk-estimator sk-toggleable\"><input class=\"sk-toggleable__control sk-hidden--visually\" id=\"sk-estimator-id-6\" type=\"checkbox\" ><label for=\"sk-estimator-id-6\" class=\"sk-toggleable__label sk-toggleable__label-arrow\">SVC</label><div class=\"sk-toggleable__content\"><pre>SVC()</pre></div></div></div></div></div></div></div></div></div></div>"
      ],
      "text/plain": [
       "GridSearchCV(estimator=SVC(),\n",
       "             param_grid={'C': [1, 10, 20, 50],\n",
       "                         'kernel': ('linear', 'rbf', 'poly', 'sigmoid')})"
      ]
     },
     "execution_count": 79,
     "metadata": {},
     "output_type": "execute_result"
    }
   ],
   "source": [
    "parameters = {'kernel':('linear', 'rbf', 'poly', 'sigmoid'), 'C':[1, 10, 20, 50]}\n",
    "svc = SVC()\n",
    "clf = GridSearchCV(svc, parameters)\n",
    "clf.fit(X_resampled, y_resampled)"
   ]
  },
  {
   "cell_type": "code",
   "execution_count": 80,
   "metadata": {},
   "outputs": [
    {
     "data": {
      "text/plain": [
       "{'C': 20, 'kernel': 'rbf'}"
      ]
     },
     "execution_count": 80,
     "metadata": {},
     "output_type": "execute_result"
    }
   ],
   "source": [
    "clf.best_params_"
   ]
  },
  {
   "cell_type": "code",
   "execution_count": 81,
   "metadata": {},
   "outputs": [
    {
     "name": "stdout",
     "output_type": "stream",
     "text": [
      "Accuracy: 0.7619047619047619\n",
      "F1 Score: 0.5070422535211268\n",
      "RECALL: 0.42857142857142855\n",
      "Precision: 0.6206896551724138\n",
      "Confusion Matrix:\n",
      " [[94 11]\n",
      " [24 18]]\n"
     ]
    },
    {
     "data": {
      "image/png": "[encoded data removed]",
      "text/plain": [
       "<Figure size 432x288 with 2 Axes>"
      ]
     },
     "metadata": {
      "needs_background": "light"
     },
     "output_type": "display_data"
    }
   ],
   "source": [
    "svc = SVC(C=20, kernel='rbf')\n",
    "svc.fit(X_resampled, y_resampled)\n",
    "y_true = y_test\n",
    "y_pred = svc.predict(X_test)\n",
    "print(\"Accuracy:\", svc.score(X_test, y_test))\n",
    "print(\"F1 Score:\", f1_score(y_true, y_pred))\n",
    "print(\"RECALL:\", recall_score(y_true, y_pred))\n",
    "print(\"Precision:\", precision_score(y_true, y_pred))\n",
    "print(\"Confusion Matrix:\\n\", confusion_matrix(y_true, y_pred))\n",
    "fig = sns.heatmap(confusion_matrix(y_true, y_pred), annot=True)\n",
    "plt.xlabel(\"Predicted\")\n",
    "plt.ylabel(\"True\");"
   ]
  },
  {
   "cell_type": "markdown",
   "metadata": {},
   "source": [
    "**Precision is a good measure to determine, when the costs of False Positive is high.**</br>\n",
    "**Recall is a good measure to determine when the cost of False Negative is high**</br>\n",
    "In the case of our task, we want to minimize the occurence of False Negatives. This is because if the model predicts that a customer will not attend, then leaving a spot open for someone else, yet the customer attends, there will be over-booking, and not enough space for at least one customer."
   ]
  },
  {
   "cell_type": "markdown",
   "metadata": {},
   "source": [
    "### Gridsearch of Gradient Boosting model"
   ]
  },
  {
   "cell_type": "code",
   "execution_count": 90,
   "metadata": {},
   "outputs": [
    {
     "data": {
      "text/html": [
       "<style>#sk-container-id-4 {color: black;background-color: white;}#sk-container-id-4 pre{padding: 0;}#sk-container-id-4 div.sk-toggleable {background-color: white;}#sk-container-id-4 label.sk-toggleable__label {cursor: pointer;display: block;width: 100%;margin-bottom: 0;padding: 0.3em;box-sizing: border-box;text-align: center;}#sk-container-id-4 label.sk-toggleable__label-arrow:before {content: \"▸\";float: left;margin-right: 0.25em;color: #696969;}#sk-container-id-4 label.sk-toggleable__label-arrow:hover:before {color: black;}#sk-container-id-4 div.sk-estimator:hover label.sk-toggleable__label-arrow:before {color: black;}#sk-container-id-4 div.sk-toggleable__content {max-height: 0;max-width: 0;overflow: hidden;text-align: left;background-color: #f0f8ff;}#sk-container-id-4 div.sk-toggleable__content pre {margin: 0.2em;color: black;border-radius: 0.25em;background-color: #f0f8ff;}#sk-container-id-4 input.sk-toggleable__control:checked~div.sk-toggleable__content {max-height: 200px;max-width: 100%;overflow: auto;}#sk-container-id-4 input.sk-toggleable__control:checked~label.sk-toggleable__label-arrow:before {content: \"▾\";}#sk-container-id-4 div.sk-estimator input.sk-toggleable__control:checked~label.sk-toggleable__label {background-color: #d4ebff;}#sk-container-id-4 div.sk-label input.sk-toggleable__control:checked~label.sk-toggleable__label {background-color: #d4ebff;}#sk-container-id-4 input.sk-hidden--visually {border: 0;clip: rect(1px 1px 1px 1px);clip: rect(1px, 1px, 1px, 1px);height: 1px;margin: -1px;overflow: hidden;padding: 0;position: absolute;width: 1px;}#sk-container-id-4 div.sk-estimator {font-family: monospace;background-color: #f0f8ff;border: 1px dotted black;border-radius: 0.25em;box-sizing: border-box;margin-bottom: 0.5em;}#sk-container-id-4 div.sk-estimator:hover {background-color: #d4ebff;}#sk-container-id-4 div.sk-parallel-item::after {content: \"\";width: 100%;border-bottom: 1px solid gray;flex-grow: 1;}#sk-container-id-4 div.sk-label:hover label.sk-toggleable__label {background-color: #d4ebff;}#sk-container-id-4 div.sk-serial::before {content: \"\";position: absolute;border-left: 1px solid gray;box-sizing: border-box;top: 0;bottom: 0;left: 50%;z-index: 0;}#sk-container-id-4 div.sk-serial {display: flex;flex-direction: column;align-items: center;background-color: white;padding-right: 0.2em;padding-left: 0.2em;position: relative;}#sk-container-id-4 div.sk-item {position: relative;z-index: 1;}#sk-container-id-4 div.sk-parallel {display: flex;align-items: stretch;justify-content: center;background-color: white;position: relative;}#sk-container-id-4 div.sk-item::before, #sk-container-id-4 div.sk-parallel-item::before {content: \"\";position: absolute;border-left: 1px solid gray;box-sizing: border-box;top: 0;bottom: 0;left: 50%;z-index: -1;}#sk-container-id-4 div.sk-parallel-item {display: flex;flex-direction: column;z-index: 1;position: relative;background-color: white;}#sk-container-id-4 div.sk-parallel-item:first-child::after {align-self: flex-end;width: 50%;}#sk-container-id-4 div.sk-parallel-item:last-child::after {align-self: flex-start;width: 50%;}#sk-container-id-4 div.sk-parallel-item:only-child::after {width: 0;}#sk-container-id-4 div.sk-dashed-wrapped {border: 1px dashed gray;margin: 0 0.4em 0.5em 0.4em;box-sizing: border-box;padding-bottom: 0.4em;background-color: white;}#sk-container-id-4 div.sk-label label {font-family: monospace;font-weight: bold;display: inline-block;line-height: 1.2em;}#sk-container-id-4 div.sk-label-container {text-align: center;}#sk-container-id-4 div.sk-container {/* jupyter's `normalize.less` sets `[hidden] { display: none; }` but bootstrap.min.css set `[hidden] { display: none !important; }` so we also need the `!important` here to be able to override the default hidden behavior on the sphinx rendered scikit-learn.org. See: https://github.com/scikit-learn/scikit-learn/issues/21755 */display: inline-block !important;position: relative;}#sk-container-id-4 div.sk-text-repr-fallback {display: none;}</style><div id=\"sk-container-id-4\" class=\"sk-top-container\"><div class=\"sk-text-repr-fallback\"><pre>GridSearchCV(estimator=GradientBoostingClassifier(),\n",
       "             param_grid={&#x27;learning_rate&#x27;: array([1, 1, 1, 1, 2]),\n",
       "                         &#x27;max_depth&#x27;: array([ 5,  7, 10, 12, 15]),\n",
       "                         &#x27;n_estimators&#x27;: array([40, 43, 47, 51, 55])})</pre><b>In a Jupyter environment, please rerun this cell to show the HTML representation or trust the notebook. <br />On GitHub, the HTML representation is unable to render, please try loading this page with nbviewer.org.</b></div><div class=\"sk-container\" hidden><div class=\"sk-item sk-dashed-wrapped\"><div class=\"sk-label-container\"><div class=\"sk-label sk-toggleable\"><input class=\"sk-toggleable__control sk-hidden--visually\" id=\"sk-estimator-id-10\" type=\"checkbox\" ><label for=\"sk-estimator-id-10\" class=\"sk-toggleable__label sk-toggleable__label-arrow\">GridSearchCV</label><div class=\"sk-toggleable__content\"><pre>GridSearchCV(estimator=GradientBoostingClassifier(),\n",
       "             param_grid={&#x27;learning_rate&#x27;: array([1, 1, 1, 1, 2]),\n",
       "                         &#x27;max_depth&#x27;: array([ 5,  7, 10, 12, 15]),\n",
       "                         &#x27;n_estimators&#x27;: array([40, 43, 47, 51, 55])})</pre></div></div></div><div class=\"sk-parallel\"><div class=\"sk-parallel-item\"><div class=\"sk-item\"><div class=\"sk-label-container\"><div class=\"sk-label sk-toggleable\"><input class=\"sk-toggleable__control sk-hidden--visually\" id=\"sk-estimator-id-11\" type=\"checkbox\" ><label for=\"sk-estimator-id-11\" class=\"sk-toggleable__label sk-toggleable__label-arrow\">estimator: GradientBoostingClassifier</label><div class=\"sk-toggleable__content\"><pre>GradientBoostingClassifier()</pre></div></div></div><div class=\"sk-serial\"><div class=\"sk-item\"><div class=\"sk-estimator sk-toggleable\"><input class=\"sk-toggleable__control sk-hidden--visually\" id=\"sk-estimator-id-12\" type=\"checkbox\" ><label for=\"sk-estimator-id-12\" class=\"sk-toggleable__label sk-toggleable__label-arrow\">GradientBoostingClassifier</label><div class=\"sk-toggleable__content\"><pre>GradientBoostingClassifier()</pre></div></div></div></div></div></div></div></div></div></div>"
      ],
      "text/plain": [
       "GridSearchCV(estimator=GradientBoostingClassifier(),\n",
       "             param_grid={'learning_rate': array([1, 1, 1, 1, 2]),\n",
       "                         'max_depth': array([ 5,  7, 10, 12, 15]),\n",
       "                         'n_estimators': array([40, 43, 47, 51, 55])})"
      ]
     },
     "execution_count": 90,
     "metadata": {},
     "output_type": "execute_result"
    }
   ],
   "source": [
    "parameters = {\"n_estimators\": np.linspace(40,55,5,dtype=int), \"learning_rate\": np.linspace(1,2,5,dtype=int), \"max_depth\": np.linspace(5,15,5,dtype=int)}\n",
    "gbc = GradientBoostingClassifier()\n",
    "clf = GridSearchCV(gbc, parameters)\n",
    "clf.fit(X_resampled, y_resampled)"
   ]
  },
  {
   "cell_type": "code",
   "execution_count": 91,
   "metadata": {},
   "outputs": [
    {
     "data": {
      "text/plain": [
       "{'learning_rate': 1, 'max_depth': 12, 'n_estimators': 47}"
      ]
     },
     "execution_count": 91,
     "metadata": {},
     "output_type": "execute_result"
    }
   ],
   "source": [
    "clf.best_params_"
   ]
  },
  {
   "cell_type": "code",
   "execution_count": 93,
   "metadata": {},
   "outputs": [
    {
     "name": "stdout",
     "output_type": "stream",
     "text": [
      "Accuracy: 0.7619047619047619\n",
      "F1 Score: 0.6153846153846153\n",
      "RECALL: 0.6666666666666666\n",
      "Precision: 0.5714285714285714\n",
      "Confusion Matrix:\n",
      " [[84 21]\n",
      " [14 28]]\n"
     ]
    },
    {
     "data": {
      "image/png": "[encoded data removed]",
      "text/plain": [
       "<Figure size 432x288 with 2 Axes>"
      ]
     },
     "metadata": {
      "needs_background": "light"
     },
     "output_type": "display_data"
    }
   ],
   "source": [
    "gbc = GradientBoostingClassifier(learning_rate=1, max_depth=12, n_estimators=47)\n",
    "gbc.fit(X_resampled, y_resampled)\n",
    "y_true = y_test\n",
    "y_pred = gbc.predict(X_test)\n",
    "print(\"Accuracy:\", gbc.score(X_test, y_test))\n",
    "print(\"F1 Score:\", f1_score(y_true, y_pred))\n",
    "print(\"RECALL:\", recall_score(y_true, y_pred))\n",
    "print(\"Precision:\", precision_score(y_true, y_pred))\n",
    "print(\"Confusion Matrix:\\n\", confusion_matrix(y_true, y_pred))\n",
    "fig = sns.heatmap(confusion_matrix(y_true, y_pred), annot=True)\n",
    "plt.xlabel(\"Predicted\")\n",
    "plt.ylabel(\"True\");"
   ]
  },
  {
   "cell_type": "markdown",
   "metadata": {},
   "source": [
    "# Predict new  data with a trained model"
   ]
  },
  {
   "cell_type": "code",
   "execution_count": 189,
   "metadata": {},
   "outputs": [],
   "source": [
    "def transform_new_data(data_to_predict, scaler, ohe_day, ohe_category):\n",
    "    new_data = pd.DataFrame(data_to_predict, columns = [\"months_as_member\", \"weight\", \"days_before\", \"day_of_week\", \"time\", \"category\"])\n",
    "    ohe_day.transform(new_data[[\"day_of_week\"]])\n",
    "    day_of_week_encoded = pd.DataFrame(ohe_day.transform(new_data[[\"day_of_week\"]]), columns=ohe_day.categories_).reset_index(drop=True)\n",
    "    #print(day_of_week_encoded)\n",
    "    df = pd.concat([new_data, day_of_week_encoded], axis=1)\n",
    "    category_encoded = pd.DataFrame(ohe_category.transform(new_data[[\"category\"]]), columns=ohe_category.categories_).reset_index(drop=True)\n",
    "    #print(category_encoded)\n",
    "    features_encoded = pd.concat([df, category_encoded], axis=1)\n",
    "    #print(features_encoded)\n",
    "    df_encoded = features_encoded.drop(columns=[\"day_of_week\", \"category\"])\n",
    "    df_scaled = scaler.transform(df_encoded.iloc[:, 0:3].to_numpy())\n",
    "    df_scaled = pd.DataFrame(df_scaled, columns=[\"months_scaled\", \"weight_scaled\", \"days_scaled\"])\n",
    "    df_encoded[\"months_as_member\"] = df_scaled[\"months_scaled\"]\n",
    "    df_encoded[\"weight\"] = df_scaled[\"weight_scaled\"]\n",
    "    df_encoded[\"days_before\"] = df_scaled[\"days_scaled\"]\n",
    "    return df_encoded\n",
    "    "
   ]
  },
  {
   "cell_type": "code",
   "execution_count": 190,
   "metadata": {},
   "outputs": [],
   "source": [
    "data_to_predict = [[\"9\", \"73.52\", \"4\", \"Wed\", \"1\", \"Strength\"]]"
   ]
  },
  {
   "cell_type": "code",
   "execution_count": 191,
   "metadata": {},
   "outputs": [
    {
     "data": {
      "text/html": [
       "<div>\n",
       "<style scoped>\n",
       "    .dataframe tbody tr th:only-of-type {\n",
       "        vertical-align: middle;\n",
       "    }\n",
       "\n",
       "    .dataframe tbody tr th {\n",
       "        vertical-align: top;\n",
       "    }\n",
       "\n",
       "    .dataframe thead th {\n",
       "        text-align: right;\n",
       "    }\n",
       "</style>\n",
       "<table border=\"1\" class=\"dataframe\">\n",
       "  <thead>\n",
       "    <tr style=\"text-align: right;\">\n",
       "      <th></th>\n",
       "      <th>months_as_member</th>\n",
       "      <th>weight</th>\n",
       "      <th>days_before</th>\n",
       "      <th>time</th>\n",
       "      <th>(Fri,)</th>\n",
       "      <th>(Mon,)</th>\n",
       "      <th>(Sat,)</th>\n",
       "      <th>(Sun,)</th>\n",
       "      <th>(Thu,)</th>\n",
       "      <th>(Tue,)</th>\n",
       "      <th>(Wed,)</th>\n",
       "      <th>(Aqua,)</th>\n",
       "      <th>(Cycling,)</th>\n",
       "      <th>(HIIT,)</th>\n",
       "      <th>(Strength,)</th>\n",
       "      <th>(Yoga,)</th>\n",
       "    </tr>\n",
       "  </thead>\n",
       "  <tbody>\n",
       "    <tr>\n",
       "      <th>0</th>\n",
       "      <td>-0.272727</td>\n",
       "      <td>-0.452036</td>\n",
       "      <td>-0.625</td>\n",
       "      <td>1</td>\n",
       "      <td>0.0</td>\n",
       "      <td>0.0</td>\n",
       "      <td>0.0</td>\n",
       "      <td>0.0</td>\n",
       "      <td>0.0</td>\n",
       "      <td>0.0</td>\n",
       "      <td>1.0</td>\n",
       "      <td>0.0</td>\n",
       "      <td>0.0</td>\n",
       "      <td>0.0</td>\n",
       "      <td>1.0</td>\n",
       "      <td>0.0</td>\n",
       "    </tr>\n",
       "  </tbody>\n",
       "</table>\n",
       "</div>"
      ],
      "text/plain": [
       "   months_as_member    weight  days_before time  (Fri,)  (Mon,)  (Sat,)  \\\n",
       "0         -0.272727 -0.452036       -0.625    1     0.0     0.0     0.0   \n",
       "\n",
       "   (Sun,)  (Thu,)  (Tue,)  (Wed,)  (Aqua,)  (Cycling,)  (HIIT,)  (Strength,)  \\\n",
       "0     0.0     0.0     0.0     1.0      0.0         0.0      0.0          1.0   \n",
       "\n",
       "   (Yoga,)  \n",
       "0      0.0  "
      ]
     },
     "execution_count": 191,
     "metadata": {},
     "output_type": "execute_result"
    }
   ],
   "source": [
    "transform_new_data(data_to_predict, scaler, ohe_day, ohe_category)"
   ]
  },
  {
   "cell_type": "markdown",
   "metadata": {},
   "source": [
    "# Make predictions"
   ]
  },
  {
   "cell_type": "code",
   "execution_count": 192,
   "metadata": {},
   "outputs": [],
   "source": [
    "data_to_predict = [[\"9\", \"73.52\", \"4\", \"Wed\", \"1\", \"Strength\"]]\n",
    "data_transformed = transform_new_data(data_to_predict, scaler, ohe_day, ohe_category)"
   ]
  },
  {
   "cell_type": "code",
   "execution_count": 193,
   "metadata": {},
   "outputs": [
    {
     "data": {
      "text/plain": [
       "array([0])"
      ]
     },
     "execution_count": 193,
     "metadata": {},
     "output_type": "execute_result"
    }
   ],
   "source": [
    "svc.predict(data_transformed)"
   ]
  },
  {
   "cell_type": "code",
   "execution_count": 197,
   "metadata": {},
   "outputs": [
    {
     "data": {
      "text/plain": [
       "array([[0.90941905, 0.09058095]])"
      ]
     },
     "execution_count": 197,
     "metadata": {},
     "output_type": "execute_result"
    }
   ],
   "source": [
    "svc.predict_proba(data_transformed)"
   ]
  },
  {
   "cell_type": "code",
   "execution_count": 198,
   "metadata": {},
   "outputs": [
    {
     "name": "stdout",
     "output_type": "stream",
     "text": [
      "[1]\n",
      "[[0.29154231 0.70845769]]\n"
     ]
    }
   ],
   "source": [
    "data_to_predict = [[\"14\", \"93.52\", \"2\", \"Fri\", \"0\", \"HIIT\"]]\n",
    "data_transformed = transform_new_data(data_to_predict, scaler, ohe_day, ohe_category)\n",
    "print(svc.predict(data_transformed))\n",
    "print(svc.predict_proba(data_transformed))"
   ]
  },
  {
   "cell_type": "markdown",
   "metadata": {},
   "source": [
    "Could set a probability threshold of 70%, beyond which the prediction is accepted."
   ]
  },
  {
   "cell_type": "markdown",
   "metadata": {},
   "source": [
    "# How much does this model benefit GoalZone?"
   ]
  },
  {
   "cell_type": "code",
   "execution_count": 199,
   "metadata": {},
   "outputs": [
    {
     "data": {
      "text/html": [
       "<div>\n",
       "<style scoped>\n",
       "    .dataframe tbody tr th:only-of-type {\n",
       "        vertical-align: middle;\n",
       "    }\n",
       "\n",
       "    .dataframe tbody tr th {\n",
       "        vertical-align: top;\n",
       "    }\n",
       "\n",
       "    .dataframe thead th {\n",
       "        text-align: right;\n",
       "    }\n",
       "</style>\n",
       "<table border=\"1\" class=\"dataframe\">\n",
       "  <thead>\n",
       "    <tr style=\"text-align: right;\">\n",
       "      <th></th>\n",
       "      <th>booking_id</th>\n",
       "      <th>months_as_member</th>\n",
       "      <th>weight</th>\n",
       "      <th>days_before</th>\n",
       "      <th>day_of_week</th>\n",
       "      <th>time</th>\n",
       "      <th>category</th>\n",
       "      <th>attended</th>\n",
       "    </tr>\n",
       "  </thead>\n",
       "  <tbody>\n",
       "    <tr>\n",
       "      <th>0</th>\n",
       "      <td>1</td>\n",
       "      <td>17</td>\n",
       "      <td>79.56</td>\n",
       "      <td>8</td>\n",
       "      <td>Wed</td>\n",
       "      <td>0</td>\n",
       "      <td>Strength</td>\n",
       "      <td>0</td>\n",
       "    </tr>\n",
       "    <tr>\n",
       "      <th>1</th>\n",
       "      <td>2</td>\n",
       "      <td>10</td>\n",
       "      <td>79.01</td>\n",
       "      <td>2</td>\n",
       "      <td>Mon</td>\n",
       "      <td>1</td>\n",
       "      <td>HIIT</td>\n",
       "      <td>0</td>\n",
       "    </tr>\n",
       "    <tr>\n",
       "      <th>2</th>\n",
       "      <td>3</td>\n",
       "      <td>16</td>\n",
       "      <td>74.53</td>\n",
       "      <td>14</td>\n",
       "      <td>Sun</td>\n",
       "      <td>1</td>\n",
       "      <td>Strength</td>\n",
       "      <td>0</td>\n",
       "    </tr>\n",
       "    <tr>\n",
       "      <th>3</th>\n",
       "      <td>4</td>\n",
       "      <td>5</td>\n",
       "      <td>86.12</td>\n",
       "      <td>10</td>\n",
       "      <td>Fri</td>\n",
       "      <td>1</td>\n",
       "      <td>Cycling</td>\n",
       "      <td>0</td>\n",
       "    </tr>\n",
       "    <tr>\n",
       "      <th>4</th>\n",
       "      <td>5</td>\n",
       "      <td>15</td>\n",
       "      <td>69.29</td>\n",
       "      <td>8</td>\n",
       "      <td>Thu</td>\n",
       "      <td>1</td>\n",
       "      <td>HIIT</td>\n",
       "      <td>0</td>\n",
       "    </tr>\n",
       "    <tr>\n",
       "      <th>...</th>\n",
       "      <td>...</td>\n",
       "      <td>...</td>\n",
       "      <td>...</td>\n",
       "      <td>...</td>\n",
       "      <td>...</td>\n",
       "      <td>...</td>\n",
       "      <td>...</td>\n",
       "      <td>...</td>\n",
       "    </tr>\n",
       "    <tr>\n",
       "      <th>1495</th>\n",
       "      <td>1496</td>\n",
       "      <td>21</td>\n",
       "      <td>79.51</td>\n",
       "      <td>10</td>\n",
       "      <td>Fri</td>\n",
       "      <td>1</td>\n",
       "      <td>HIIT</td>\n",
       "      <td>0</td>\n",
       "    </tr>\n",
       "    <tr>\n",
       "      <th>1496</th>\n",
       "      <td>1497</td>\n",
       "      <td>29</td>\n",
       "      <td>89.55</td>\n",
       "      <td>2</td>\n",
       "      <td>Mon</td>\n",
       "      <td>1</td>\n",
       "      <td>Strength</td>\n",
       "      <td>0</td>\n",
       "    </tr>\n",
       "    <tr>\n",
       "      <th>1497</th>\n",
       "      <td>1498</td>\n",
       "      <td>9</td>\n",
       "      <td>87.38</td>\n",
       "      <td>4</td>\n",
       "      <td>Tue</td>\n",
       "      <td>1</td>\n",
       "      <td>HIIT</td>\n",
       "      <td>0</td>\n",
       "    </tr>\n",
       "    <tr>\n",
       "      <th>1498</th>\n",
       "      <td>1499</td>\n",
       "      <td>34</td>\n",
       "      <td>68.64</td>\n",
       "      <td>14</td>\n",
       "      <td>Sun</td>\n",
       "      <td>1</td>\n",
       "      <td>Aqua</td>\n",
       "      <td>0</td>\n",
       "    </tr>\n",
       "    <tr>\n",
       "      <th>1499</th>\n",
       "      <td>1500</td>\n",
       "      <td>20</td>\n",
       "      <td>94.39</td>\n",
       "      <td>8</td>\n",
       "      <td>Thu</td>\n",
       "      <td>1</td>\n",
       "      <td>Cycling</td>\n",
       "      <td>1</td>\n",
       "    </tr>\n",
       "  </tbody>\n",
       "</table>\n",
       "<p>1467 rows × 8 columns</p>\n",
       "</div>"
      ],
      "text/plain": [
       "      booking_id  months_as_member  weight  days_before day_of_week  time  \\\n",
       "0              1                17   79.56            8         Wed     0   \n",
       "1              2                10   79.01            2         Mon     1   \n",
       "2              3                16   74.53           14         Sun     1   \n",
       "3              4                 5   86.12           10         Fri     1   \n",
       "4              5                15   69.29            8         Thu     1   \n",
       "...          ...               ...     ...          ...         ...   ...   \n",
       "1495        1496                21   79.51           10         Fri     1   \n",
       "1496        1497                29   89.55            2         Mon     1   \n",
       "1497        1498                 9   87.38            4         Tue     1   \n",
       "1498        1499                34   68.64           14         Sun     1   \n",
       "1499        1500                20   94.39            8         Thu     1   \n",
       "\n",
       "      category  attended  \n",
       "0     Strength         0  \n",
       "1         HIIT         0  \n",
       "2     Strength         0  \n",
       "3      Cycling         0  \n",
       "4         HIIT         0  \n",
       "...        ...       ...  \n",
       "1495      HIIT         0  \n",
       "1496  Strength         0  \n",
       "1497      HIIT         0  \n",
       "1498      Aqua         0  \n",
       "1499   Cycling         1  \n",
       "\n",
       "[1467 rows x 8 columns]"
      ]
     },
     "execution_count": 199,
     "metadata": {},
     "output_type": "execute_result"
    }
   ],
   "source": [
    "data"
   ]
  },
  {
   "cell_type": "code",
   "execution_count": 200,
   "metadata": {},
   "outputs": [
    {
     "data": {
      "application/vnd.plotly.v1+json": {
       "config": {
        "plotlyServerURL": "https://plot.ly"
       },
       "data": [
        {
         "alignmentgroup": "True",
         "bingroup": "x",
         "hovertemplate": "attended=0<br>category=%{x}<br>count=%{y}<extra></extra>",
         "legendgroup": "0",
         "marker": {
          "color": "#636efa",
          "pattern": {
           "shape": ""
          }
         },
         "name": "0",
         "offsetgroup": "0",
         "orientation": "v",
         "showlegend": true,
         "type": "histogram",
         "x": [
          "Strength",
          "HIIT",
          "Strength",
          "Cycling",
          "HIIT",
          "Cycling",
          "HIIT",
          "HIIT",
          "HIIT",
          "Cycling",
          "Cycling",
          "Cycling",
          "Cycling",
          "Yoga",
          "Strength",
          "Strength",
          "Strength",
          "HIIT",
          "HIIT",
          "Strength",
          "Cycling",
          "Yoga",
          "HIIT",
          "Cycling",
          "HIIT",
          "HIIT",
          "HIIT",
          "Strength",
          "Cycling",
          "HIIT",
          "Strength",
          "HIIT",
          "HIIT",
          "HIIT",
          "Strength",
          "Strength",
          "Yoga",
          "Yoga",
          "HIIT",
          "HIIT",
          "HIIT",
          "Yoga",
          "Yoga",
          "Yoga",
          "HIIT",
          "HIIT",
          "Aqua",
          "Yoga",
          "HIIT",
          "Strength",
          "HIIT",
          "HIIT",
          "Cycling",
          "HIIT",
          "HIIT",
          "Cycling",
          "Aqua",
          "HIIT",
          "Yoga",
          "Cycling",
          "Yoga",
          "HIIT",
          "HIIT",
          "HIIT",
          "Cycling",
          "Aqua",
          "Cycling",
          "Strength",
          "Cycling",
          "HIIT",
          "HIIT",
          "HIIT",
          "Strength",
          "Strength",
          "HIIT",
          "HIIT",
          "Strength",
          "HIIT",
          "Cycling",
          "Strength",
          "HIIT",
          "HIIT",
          "HIIT",
          "HIIT",
          "HIIT",
          "HIIT",
          "Cycling",
          "Cycling",
          "Cycling",
          "HIIT",
          "HIIT",
          "HIIT",
          "HIIT",
          "HIIT",
          "Cycling",
          "HIIT",
          "Cycling",
          "HIIT",
          "HIIT",
          "HIIT",
          "HIIT",
          "HIIT",
          "HIIT",
          "Strength",
          "HIIT",
          "HIIT",
          "HIIT",
          "HIIT",
          "Cycling",
          "HIIT",
          "HIIT",
          "Strength",
          "HIIT",
          "HIIT",
          "HIIT",
          "Strength",
          "Cycling",
          "Strength",
          "Aqua",
          "Strength",
          "HIIT",
          "Strength",
          "Cycling",
          "Cycling",
          "Strength",
          "HIIT",
          "Strength",
          "HIIT",
          "Cycling",
          "Aqua",
          "Strength",
          "HIIT",
          "Cycling",
          "Cycling",
          "Strength",
          "HIIT",
          "Strength",
          "Aqua",
          "Strength",
          "Aqua",
          "Cycling",
          "HIIT",
          "Cycling",
          "HIIT",
          "HIIT",
          "HIIT",
          "HIIT",
          "Yoga",
          "HIIT",
          "HIIT",
          "Cycling",
          "HIIT",
          "Yoga",
          "Aqua",
          "HIIT",
          "Cycling",
          "Strength",
          "Strength",
          "Cycling",
          "Yoga",
          "HIIT",
          "Aqua",
          "Strength",
          "HIIT",
          "HIIT",
          "HIIT",
          "HIIT",
          "Cycling",
          "HIIT",
          "Cycling",
          "HIIT",
          "HIIT",
          "Cycling",
          "Cycling",
          "HIIT",
          "Strength",
          "HIIT",
          "HIIT",
          "Strength",
          "Strength",
          "Strength",
          "Aqua",
          "Cycling",
          "Strength",
          "Yoga",
          "Aqua",
          "HIIT",
          "HIIT",
          "Cycling",
          "Cycling",
          "Aqua",
          "Aqua",
          "Yoga",
          "Cycling",
          "Aqua",
          "HIIT",
          "HIIT",
          "Cycling",
          "Strength",
          "HIIT",
          "HIIT",
          "Cycling",
          "HIIT",
          "Cycling",
          "Cycling",
          "Strength",
          "HIIT",
          "Strength",
          "HIIT",
          "Cycling",
          "HIIT",
          "HIIT",
          "HIIT",
          "HIIT",
          "Strength",
          "HIIT",
          "Yoga",
          "Cycling",
          "Yoga",
          "HIIT",
          "HIIT",
          "Cycling",
          "HIIT",
          "Cycling",
          "HIIT",
          "Cycling",
          "HIIT",
          "Cycling",
          "HIIT",
          "Cycling",
          "Strength",
          "Cycling",
          "HIIT",
          "Yoga",
          "Cycling",
          "HIIT",
          "HIIT",
          "HIIT",
          "Cycling",
          "HIIT",
          "Yoga",
          "HIIT",
          "Cycling",
          "Cycling",
          "Strength",
          "Strength",
          "Cycling",
          "Cycling",
          "HIIT",
          "HIIT",
          "Strength",
          "HIIT",
          "Strength",
          "Cycling",
          "Cycling",
          "Cycling",
          "HIIT",
          "HIIT",
          "Yoga",
          "Cycling",
          "Strength",
          "Strength",
          "HIIT",
          "Strength",
          "HIIT",
          "Strength",
          "HIIT",
          "HIIT",
          "Strength",
          "Strength",
          "Cycling",
          "HIIT",
          "Cycling",
          "HIIT",
          "HIIT",
          "Cycling",
          "Cycling",
          "HIIT",
          "HIIT",
          "Strength",
          "Cycling",
          "HIIT",
          "HIIT",
          "Cycling",
          "HIIT",
          "Strength",
          "Yoga",
          "Cycling",
          "HIIT",
          "HIIT",
          "Strength",
          "Yoga",
          "Cycling",
          "HIIT",
          "Strength",
          "Cycling",
          "Aqua",
          "HIIT",
          "HIIT",
          "Cycling",
          "Cycling",
          "Cycling",
          "HIIT",
          "Strength",
          "HIIT",
          "Cycling",
          "HIIT",
          "HIIT",
          "Cycling",
          "HIIT",
          "HIIT",
          "HIIT",
          "Yoga",
          "Cycling",
          "HIIT",
          "Strength",
          "HIIT",
          "Yoga",
          "Strength",
          "HIIT",
          "HIIT",
          "HIIT",
          "HIIT",
          "HIIT",
          "Cycling",
          "Yoga",
          "HIIT",
          "HIIT",
          "Strength",
          "HIIT",
          "Cycling",
          "HIIT",
          "HIIT",
          "HIIT",
          "Strength",
          "Yoga",
          "Strength",
          "Strength",
          "HIIT",
          "HIIT",
          "Yoga",
          "Strength",
          "HIIT",
          "HIIT",
          "HIIT",
          "Yoga",
          "Strength",
          "Strength",
          "Cycling",
          "HIIT",
          "Cycling",
          "Cycling",
          "HIIT",
          "Yoga",
          "HIIT",
          "Cycling",
          "HIIT",
          "HIIT",
          "HIIT",
          "HIIT",
          "HIIT",
          "HIIT",
          "HIIT",
          "HIIT",
          "HIIT",
          "HIIT",
          "HIIT",
          "Cycling",
          "Cycling",
          "Yoga",
          "Yoga",
          "HIIT",
          "Cycling",
          "HIIT",
          "HIIT",
          "Aqua",
          "Strength",
          "HIIT",
          "Cycling",
          "HIIT",
          "Strength",
          "HIIT",
          "Strength",
          "HIIT",
          "Strength",
          "Strength",
          "HIIT",
          "HIIT",
          "HIIT",
          "HIIT",
          "HIIT",
          "HIIT",
          "Strength",
          "Cycling",
          "HIIT",
          "Cycling",
          "HIIT",
          "HIIT",
          "HIIT",
          "HIIT",
          "Strength",
          "HIIT",
          "HIIT",
          "Cycling",
          "Cycling",
          "Cycling",
          "Cycling",
          "HIIT",
          "Cycling",
          "Cycling",
          "HIIT",
          "HIIT",
          "HIIT",
          "HIIT",
          "HIIT",
          "Strength",
          "Cycling",
          "Cycling",
          "Yoga",
          "Yoga",
          "HIIT",
          "HIIT",
          "Aqua",
          "Cycling",
          "HIIT",
          "Cycling",
          "HIIT",
          "Cycling",
          "HIIT",
          "HIIT",
          "Yoga",
          "HIIT",
          "HIIT",
          "Cycling",
          "Strength",
          "HIIT",
          "HIIT",
          "Strength",
          "HIIT",
          "Cycling",
          "Cycling",
          "HIIT",
          "HIIT",
          "Aqua",
          "Cycling",
          "Yoga",
          "HIIT",
          "Yoga",
          "Cycling",
          "Strength",
          "HIIT",
          "Yoga",
          "Cycling",
          "Cycling",
          "Strength",
          "Strength",
          "HIIT",
          "Aqua",
          "Cycling",
          "HIIT",
          "Cycling",
          "Strength",
          "Cycling",
          "Strength",
          "HIIT",
          "Cycling",
          "Cycling",
          "HIIT",
          "HIIT",
          "Strength",
          "HIIT",
          "HIIT",
          "Yoga",
          "Cycling",
          "HIIT",
          "Aqua",
          "Cycling",
          "Strength",
          "Strength",
          "HIIT",
          "HIIT",
          "Strength",
          "Yoga",
          "Cycling",
          "Yoga",
          "Cycling",
          "Cycling",
          "Cycling",
          "HIIT",
          "HIIT",
          "Strength",
          "Cycling",
          "HIIT",
          "Cycling",
          "HIIT",
          "Cycling",
          "Cycling",
          "HIIT",
          "HIIT",
          "Strength",
          "Yoga",
          "Yoga",
          "HIIT",
          "HIIT",
          "Yoga",
          "Yoga",
          "Cycling",
          "HIIT",
          "HIIT",
          "HIIT",
          "HIIT",
          "Strength",
          "HIIT",
          "Cycling",
          "HIIT",
          "Aqua",
          "Aqua",
          "Cycling",
          "HIIT",
          "HIIT",
          "Cycling",
          "HIIT",
          "HIIT",
          "Cycling",
          "HIIT",
          "Cycling",
          "Strength",
          "Aqua",
          "HIIT",
          "Strength",
          "Cycling",
          "Strength",
          "HIIT",
          "Strength",
          "Cycling",
          "Yoga",
          "HIIT",
          "HIIT",
          "Cycling",
          "Cycling",
          "Cycling",
          "Strength",
          "Cycling",
          "Yoga",
          "HIIT",
          "HIIT",
          "Cycling",
          "Yoga",
          "HIIT",
          "Yoga",
          "Strength",
          "HIIT",
          "Strength",
          "Cycling",
          "Strength",
          "Yoga",
          "HIIT",
          "Cycling",
          "Strength",
          "Yoga",
          "HIIT",
          "HIIT",
          "HIIT",
          "HIIT",
          "Aqua",
          "HIIT",
          "Aqua",
          "Aqua",
          "HIIT",
          "Cycling",
          "HIIT",
          "Strength",
          "HIIT",
          "Cycling",
          "Aqua",
          "HIIT",
          "HIIT",
          "Aqua",
          "Aqua",
          "Cycling",
          "HIIT",
          "HIIT",
          "Cycling",
          "Cycling",
          "Cycling",
          "HIIT",
          "HIIT",
          "Cycling",
          "HIIT",
          "HIIT",
          "Cycling",
          "Cycling",
          "Cycling",
          "Yoga",
          "HIIT",
          "Cycling",
          "Cycling",
          "HIIT",
          "Cycling",
          "HIIT",
          "HIIT",
          "HIIT",
          "HIIT",
          "Cycling",
          "HIIT",
          "Cycling",
          "Strength",
          "Cycling",
          "Yoga",
          "Cycling",
          "HIIT",
          "Cycling",
          "Aqua",
          "HIIT",
          "HIIT",
          "Cycling",
          "Strength",
          "HIIT",
          "HIIT",
          "Strength",
          "Strength",
          "HIIT",
          "HIIT",
          "Cycling",
          "HIIT",
          "Cycling",
          "Aqua",
          "HIIT",
          "Cycling",
          "Strength",
          "Strength",
          "Yoga",
          "Strength",
          "HIIT",
          "Strength",
          "Strength",
          "HIIT",
          "HIIT",
          "HIIT",
          "HIIT",
          "Strength",
          "HIIT",
          "Strength",
          "HIIT",
          "HIIT",
          "HIIT",
          "HIIT",
          "Cycling",
          "HIIT",
          "HIIT",
          "Yoga",
          "Cycling",
          "Cycling",
          "HIIT",
          "HIIT",
          "Cycling",
          "HIIT",
          "Aqua",
          "Cycling",
          "HIIT",
          "HIIT",
          "Yoga",
          "Cycling",
          "HIIT",
          "HIIT",
          "Yoga",
          "Strength",
          "Yoga",
          "Cycling",
          "HIIT",
          "Strength",
          "Strength",
          "Strength",
          "HIIT",
          "HIIT",
          "Yoga",
          "Cycling",
          "Cycling",
          "Cycling",
          "HIIT",
          "HIIT",
          "Strength",
          "HIIT",
          "HIIT",
          "Cycling",
          "HIIT",
          "HIIT",
          "Cycling",
          "Cycling",
          "Cycling",
          "Aqua",
          "HIIT",
          "Cycling",
          "Strength",
          "HIIT",
          "HIIT",
          "Cycling",
          "HIIT",
          "Strength",
          "Cycling",
          "Strength",
          "Cycling",
          "Cycling",
          "Cycling",
          "Yoga",
          "Strength",
          "Yoga",
          "Cycling",
          "Cycling",
          "Strength",
          "HIIT",
          "Cycling",
          "HIIT",
          "HIIT",
          "Cycling",
          "Cycling",
          "HIIT",
          "Strength",
          "Strength",
          "Cycling",
          "Cycling",
          "Yoga",
          "Aqua",
          "HIIT",
          "HIIT",
          "HIIT",
          "Yoga",
          "Aqua",
          "HIIT",
          "HIIT",
          "HIIT",
          "Strength",
          "HIIT",
          "HIIT",
          "HIIT",
          "HIIT",
          "Strength",
          "Cycling",
          "HIIT",
          "HIIT",
          "HIIT",
          "Strength",
          "Strength",
          "HIIT",
          "Strength",
          "Cycling",
          "Strength",
          "Strength",
          "Strength",
          "Cycling",
          "Strength",
          "Cycling",
          "HIIT",
          "HIIT",
          "Cycling",
          "Yoga",
          "Cycling",
          "Strength",
          "HIIT",
          "HIIT",
          "HIIT",
          "Cycling",
          "Yoga",
          "Cycling",
          "HIIT",
          "Cycling",
          "HIIT",
          "HIIT",
          "Cycling",
          "HIIT",
          "Yoga",
          "HIIT",
          "HIIT",
          "Strength",
          "Cycling",
          "HIIT",
          "Cycling",
          "HIIT",
          "Cycling",
          "Strength",
          "HIIT",
          "HIIT",
          "HIIT",
          "HIIT",
          "Yoga",
          "Aqua",
          "Cycling",
          "Cycling",
          "HIIT",
          "HIIT",
          "HIIT",
          "Yoga",
          "HIIT",
          "Aqua",
          "HIIT",
          "HIIT",
          "HIIT",
          "HIIT",
          "HIIT",
          "Yoga",
          "Cycling",
          "Strength",
          "HIIT",
          "Yoga",
          "Cycling",
          "Yoga",
          "HIIT",
          "Yoga",
          "HIIT",
          "Cycling",
          "Strength",
          "HIIT",
          "Yoga",
          "HIIT",
          "Yoga",
          "Strength",
          "Yoga",
          "Cycling",
          "Cycling",
          "HIIT",
          "HIIT",
          "HIIT",
          "HIIT",
          "HIIT",
          "Cycling",
          "HIIT",
          "Cycling",
          "Yoga",
          "Cycling",
          "Cycling",
          "Strength",
          "Strength",
          "HIIT",
          "Cycling",
          "HIIT",
          "HIIT",
          "HIIT",
          "Cycling",
          "Cycling",
          "HIIT",
          "HIIT",
          "Cycling",
          "Yoga",
          "HIIT",
          "HIIT",
          "Yoga",
          "HIIT",
          "HIIT",
          "HIIT",
          "HIIT",
          "Cycling",
          "Cycling",
          "HIIT",
          "HIIT",
          "Strength",
          "Cycling",
          "Strength",
          "HIIT",
          "Cycling",
          "Cycling",
          "Cycling",
          "Cycling",
          "Yoga",
          "HIIT",
          "Strength",
          "HIIT",
          "Cycling",
          "Strength",
          "HIIT",
          "Yoga",
          "Strength",
          "Yoga",
          "Cycling",
          "Strength",
          "Strength",
          "HIIT",
          "Cycling",
          "Cycling",
          "HIIT",
          "Strength",
          "HIIT",
          "Yoga",
          "Strength",
          "Cycling",
          "HIIT",
          "Aqua",
          "Aqua",
          "Aqua",
          "HIIT",
          "Aqua",
          "Yoga",
          "Cycling",
          "Cycling",
          "Cycling",
          "Aqua",
          "Cycling",
          "Cycling",
          "Cycling",
          "HIIT",
          "Yoga",
          "HIIT",
          "HIIT",
          "Cycling",
          "HIIT",
          "Strength",
          "Strength",
          "HIIT",
          "HIIT",
          "Cycling",
          "Cycling",
          "HIIT",
          "Cycling",
          "HIIT",
          "Strength",
          "Cycling",
          "Cycling",
          "HIIT",
          "Strength",
          "Strength",
          "Cycling",
          "Yoga",
          "Yoga",
          "HIIT",
          "Yoga",
          "Cycling",
          "HIIT",
          "HIIT",
          "HIIT",
          "Cycling",
          "HIIT",
          "HIIT",
          "Cycling",
          "Cycling",
          "HIIT",
          "Strength",
          "HIIT",
          "Strength",
          "Cycling",
          "HIIT",
          "Strength",
          "Aqua",
          "HIIT",
          "Strength",
          "Yoga",
          "Cycling",
          "Yoga",
          "Cycling",
          "HIIT",
          "HIIT",
          "Strength",
          "Aqua",
          "Cycling",
          "HIIT",
          "Strength",
          "Strength",
          "Strength",
          "HIIT",
          "HIIT",
          "Cycling",
          "Cycling",
          "Yoga",
          "Strength",
          "Cycling",
          "HIIT",
          "Cycling",
          "HIIT",
          "HIIT",
          "HIIT",
          "Cycling",
          "Cycling",
          "HIIT",
          "Strength",
          "HIIT",
          "HIIT",
          "HIIT",
          "Cycling",
          "HIIT",
          "Cycling",
          "Cycling",
          "Cycling",
          "Cycling",
          "Strength",
          "HIIT",
          "HIIT",
          "HIIT",
          "Cycling",
          "HIIT",
          "HIIT",
          "Strength",
          "HIIT",
          "HIIT",
          "HIIT",
          "Strength",
          "Cycling",
          "Strength",
          "HIIT",
          "Yoga",
          "HIIT",
          "HIIT",
          "HIIT",
          "Strength",
          "Cycling",
          "Aqua",
          "Yoga",
          "Strength",
          "Strength",
          "Aqua",
          "HIIT",
          "Aqua",
          "Yoga",
          "HIIT",
          "Aqua",
          "Yoga",
          "HIIT",
          "HIIT",
          "HIIT",
          "HIIT",
          "Strength",
          "HIIT",
          "Aqua"
         ],
         "xaxis": "x",
         "yaxis": "y"
        },
        {
         "alignmentgroup": "True",
         "bingroup": "x",
         "hovertemplate": "attended=1<br>category=%{x}<br>count=%{y}<extra></extra>",
         "legendgroup": "1",
         "marker": {
          "color": "#EF553B",
          "pattern": {
           "shape": ""
          }
         },
         "name": "1",
         "offsetgroup": "1",
         "orientation": "v",
         "showlegend": true,
         "type": "histogram",
         "x": [
          "HIIT",
          "Strength",
          "HIIT",
          "Strength",
          "Cycling",
          "Cycling",
          "Strength",
          "Cycling",
          "HIIT",
          "Strength",
          "Yoga",
          "HIIT",
          "Strength",
          "HIIT",
          "HIIT",
          "HIIT",
          "Strength",
          "HIIT",
          "HIIT",
          "Cycling",
          "HIIT",
          "Yoga",
          "Strength",
          "HIIT",
          "HIIT",
          "Cycling",
          "Cycling",
          "Cycling",
          "HIIT",
          "HIIT",
          "Yoga",
          "Yoga",
          "Cycling",
          "Yoga",
          "HIIT",
          "HIIT",
          "HIIT",
          "HIIT",
          "HIIT",
          "HIIT",
          "Yoga",
          "Yoga",
          "Cycling",
          "Cycling",
          "HIIT",
          "Strength",
          "Cycling",
          "Strength",
          "Strength",
          "HIIT",
          "HIIT",
          "HIIT",
          "Strength",
          "Aqua",
          "HIIT",
          "Yoga",
          "Strength",
          "Yoga",
          "HIIT",
          "Cycling",
          "Yoga",
          "Strength",
          "HIIT",
          "HIIT",
          "HIIT",
          "Strength",
          "HIIT",
          "Cycling",
          "HIIT",
          "Cycling",
          "Yoga",
          "Cycling",
          "Yoga",
          "Cycling",
          "Aqua",
          "HIIT",
          "Cycling",
          "Cycling",
          "HIIT",
          "HIIT",
          "Cycling",
          "Cycling",
          "HIIT",
          "Strength",
          "Cycling",
          "Aqua",
          "HIIT",
          "Yoga",
          "Strength",
          "HIIT",
          "HIIT",
          "HIIT",
          "Cycling",
          "HIIT",
          "Cycling",
          "HIIT",
          "Strength",
          "HIIT",
          "Yoga",
          "Cycling",
          "Yoga",
          "Cycling",
          "Cycling",
          "Cycling",
          "Strength",
          "Cycling",
          "HIIT",
          "Aqua",
          "Yoga",
          "HIIT",
          "Cycling",
          "Cycling",
          "HIIT",
          "HIIT",
          "HIIT",
          "Yoga",
          "Cycling",
          "HIIT",
          "Yoga",
          "HIIT",
          "Cycling",
          "Cycling",
          "Cycling",
          "HIIT",
          "Strength",
          "Cycling",
          "HIIT",
          "HIIT",
          "Cycling",
          "HIIT",
          "HIIT",
          "Cycling",
          "Cycling",
          "HIIT",
          "Aqua",
          "HIIT",
          "HIIT",
          "Aqua",
          "Cycling",
          "HIIT",
          "HIIT",
          "Yoga",
          "HIIT",
          "Cycling",
          "Cycling",
          "HIIT",
          "HIIT",
          "HIIT",
          "HIIT",
          "Strength",
          "HIIT",
          "HIIT",
          "HIIT",
          "HIIT",
          "Strength",
          "HIIT",
          "HIIT",
          "HIIT",
          "Strength",
          "Strength",
          "Strength",
          "Strength",
          "Cycling",
          "HIIT",
          "HIIT",
          "Strength",
          "HIIT",
          "HIIT",
          "HIIT",
          "HIIT",
          "HIIT",
          "Strength",
          "HIIT",
          "HIIT",
          "Cycling",
          "Cycling",
          "HIIT",
          "Strength",
          "Cycling",
          "Cycling",
          "Cycling",
          "HIIT",
          "Aqua",
          "HIIT",
          "HIIT",
          "HIIT",
          "HIIT",
          "Yoga",
          "Strength",
          "HIIT",
          "HIIT",
          "HIIT",
          "Cycling",
          "Aqua",
          "HIIT",
          "Yoga",
          "HIIT",
          "Cycling",
          "Yoga",
          "HIIT",
          "Strength",
          "HIIT",
          "HIIT",
          "HIIT",
          "Aqua",
          "Cycling",
          "HIIT",
          "Cycling",
          "Cycling",
          "Yoga",
          "HIIT",
          "Cycling",
          "HIIT",
          "HIIT",
          "Cycling",
          "HIIT",
          "Yoga",
          "Cycling",
          "Cycling",
          "Cycling",
          "Strength",
          "Cycling",
          "Strength",
          "Aqua",
          "Cycling",
          "Cycling",
          "Aqua",
          "HIIT",
          "Yoga",
          "Cycling",
          "Strength",
          "Cycling",
          "HIIT",
          "HIIT",
          "Cycling",
          "HIIT",
          "HIIT",
          "HIIT",
          "Yoga",
          "Cycling",
          "Cycling",
          "Yoga",
          "Strength",
          "Cycling",
          "Strength",
          "Strength",
          "Aqua",
          "Yoga",
          "HIIT",
          "HIIT",
          "Strength",
          "HIIT",
          "Cycling",
          "HIIT",
          "Cycling",
          "HIIT",
          "Yoga",
          "Aqua",
          "Aqua",
          "Cycling",
          "HIIT",
          "Strength",
          "Yoga",
          "Yoga",
          "Cycling",
          "Cycling",
          "HIIT",
          "Strength",
          "Strength",
          "HIIT",
          "HIIT",
          "Aqua",
          "Cycling",
          "Cycling",
          "Cycling",
          "Strength",
          "HIIT",
          "Cycling",
          "Cycling",
          "HIIT",
          "Strength",
          "Cycling",
          "HIIT",
          "HIIT",
          "Cycling",
          "Strength",
          "Strength",
          "HIIT",
          "HIIT",
          "Strength",
          "Yoga",
          "Aqua",
          "HIIT",
          "HIIT",
          "HIIT",
          "HIIT",
          "HIIT",
          "Cycling",
          "HIIT",
          "HIIT",
          "Cycling",
          "Cycling",
          "HIIT",
          "HIIT",
          "HIIT",
          "Yoga",
          "HIIT",
          "Strength",
          "Yoga",
          "Cycling",
          "HIIT",
          "Strength",
          "Yoga",
          "HIIT",
          "HIIT",
          "HIIT",
          "Strength",
          "HIIT",
          "HIIT",
          "Cycling",
          "Cycling",
          "Aqua",
          "HIIT",
          "Yoga",
          "Aqua",
          "HIIT",
          "HIIT",
          "Cycling",
          "HIIT",
          "HIIT",
          "Aqua",
          "Strength",
          "HIIT",
          "HIIT",
          "Strength",
          "HIIT",
          "HIIT",
          "Strength",
          "HIIT",
          "HIIT",
          "Yoga",
          "HIIT",
          "HIIT",
          "HIIT",
          "Cycling",
          "Strength",
          "HIIT",
          "HIIT",
          "HIIT",
          "HIIT",
          "HIIT",
          "Cycling",
          "Cycling",
          "Yoga",
          "Cycling",
          "Cycling",
          "Cycling",
          "HIIT",
          "HIIT",
          "HIIT",
          "Cycling",
          "Cycling",
          "Strength",
          "Yoga",
          "HIIT",
          "Strength",
          "Cycling",
          "Cycling",
          "HIIT",
          "HIIT",
          "HIIT",
          "HIIT",
          "HIIT",
          "HIIT",
          "HIIT",
          "Strength",
          "Strength",
          "Yoga",
          "Strength",
          "Cycling",
          "Cycling",
          "HIIT",
          "Yoga",
          "HIIT",
          "HIIT",
          "HIIT",
          "HIIT",
          "HIIT",
          "HIIT",
          "HIIT",
          "Cycling",
          "HIIT",
          "Aqua",
          "HIIT",
          "Cycling",
          "HIIT",
          "HIIT",
          "HIIT",
          "HIIT",
          "Strength",
          "HIIT",
          "Cycling",
          "HIIT",
          "HIIT",
          "HIIT",
          "Cycling",
          "Cycling",
          "HIIT",
          "HIIT",
          "Aqua",
          "Cycling",
          "Strength",
          "HIIT",
          "Aqua",
          "HIIT",
          "Cycling",
          "HIIT",
          "HIIT",
          "HIIT",
          "HIIT",
          "Aqua",
          "HIIT",
          "HIIT",
          "HIIT",
          "Cycling",
          "Strength",
          "HIIT",
          "HIIT",
          "HIIT",
          "Yoga",
          "HIIT",
          "HIIT",
          "Cycling",
          "Aqua",
          "HIIT",
          "Aqua",
          "Strength",
          "HIIT",
          "Strength",
          "Cycling",
          "HIIT",
          "HIIT",
          "HIIT",
          "HIIT",
          "HIIT",
          "HIIT",
          "Cycling"
         ],
         "xaxis": "x",
         "yaxis": "y"
        }
       ],
       "layout": {
        "barmode": "relative",
        "legend": {
         "title": {
          "text": "attended"
         },
         "tracegroupgap": 0
        },
        "margin": {
         "t": 60
        },
        "template": {
         "data": {
          "bar": [
           {
            "error_x": {
             "color": "#2a3f5f"
            },
            "error_y": {
             "color": "#2a3f5f"
            },
            "marker": {
             "line": {
              "color": "#E5ECF6",
              "width": 0.5
             },
             "pattern": {
              "fillmode": "overlay",
              "size": 10,
              "solidity": 0.2
             }
            },
            "type": "bar"
           }
          ],
          "barpolar": [
           {
            "marker": {
             "line": {
              "color": "#E5ECF6",
              "width": 0.5
             },
             "pattern": {
              "fillmode": "overlay",
              "size": 10,
              "solidity": 0.2
             }
            },
            "type": "barpolar"
           }
          ],
          "carpet": [
           {
            "aaxis": {
             "endlinecolor": "#2a3f5f",
             "gridcolor": "white",
             "linecolor": "white",
             "minorgridcolor": "white",
             "startlinecolor": "#2a3f5f"
            },
            "baxis": {
             "endlinecolor": "#2a3f5f",
             "gridcolor": "white",
             "linecolor": "white",
             "minorgridcolor": "white",
             "startlinecolor": "#2a3f5f"
            },
            "type": "carpet"
           }
          ],
          "choropleth": [
           {
            "colorbar": {
             "outlinewidth": 0,
             "ticks": ""
            },
            "type": "choropleth"
           }
          ],
          "contour": [
           {
            "colorbar": {
             "outlinewidth": 0,
             "ticks": ""
            },
            "colorscale": [
             [
              0,
              "#0d0887"
             ],
             [
              0.1111111111111111,
              "#46039f"
             ],
             [
              0.2222222222222222,
              "#7201a8"
             ],
             [
              0.3333333333333333,
              "#9c179e"
             ],
             [
              0.4444444444444444,
              "#bd3786"
             ],
             [
              0.5555555555555556,
              "#d8576b"
             ],
             [
              0.6666666666666666,
              "#ed7953"
             ],
             [
              0.7777777777777778,
              "#fb9f3a"
             ],
             [
              0.8888888888888888,
              "#fdca26"
             ],
             [
              1,
              "#f0f921"
             ]
            ],
            "type": "contour"
           }
          ],
          "contourcarpet": [
           {
            "colorbar": {
             "outlinewidth": 0,
             "ticks": ""
            },
            "type": "contourcarpet"
           }
          ],
          "heatmap": [
           {
            "colorbar": {
             "outlinewidth": 0,
             "ticks": ""
            },
            "colorscale": [
             [
              0,
              "#0d0887"
             ],
             [
              0.1111111111111111,
              "#46039f"
             ],
             [
              0.2222222222222222,
              "#7201a8"
             ],
             [
              0.3333333333333333,
              "#9c179e"
             ],
             [
              0.4444444444444444,
              "#bd3786"
             ],
             [
              0.5555555555555556,
              "#d8576b"
             ],
             [
              0.6666666666666666,
              "#ed7953"
             ],
             [
              0.7777777777777778,
              "#fb9f3a"
             ],
             [
              0.8888888888888888,
              "#fdca26"
             ],
             [
              1,
              "#f0f921"
             ]
            ],
            "type": "heatmap"
           }
          ],
          "heatmapgl": [
           {
            "colorbar": {
             "outlinewidth": 0,
             "ticks": ""
            },
            "colorscale": [
             [
              0,
              "#0d0887"
             ],
             [
              0.1111111111111111,
              "#46039f"
             ],
             [
              0.2222222222222222,
              "#7201a8"
             ],
             [
              0.3333333333333333,
              "#9c179e"
             ],
             [
              0.4444444444444444,
              "#bd3786"
             ],
             [
              0.5555555555555556,
              "#d8576b"
             ],
             [
              0.6666666666666666,
              "#ed7953"
             ],
             [
              0.7777777777777778,
              "#fb9f3a"
             ],
             [
              0.8888888888888888,
              "#fdca26"
             ],
             [
              1,
              "#f0f921"
             ]
            ],
            "type": "heatmapgl"
           }
          ],
          "histogram": [
           {
            "marker": {
             "pattern": {
              "fillmode": "overlay",
              "size": 10,
              "solidity": 0.2
             }
            },
            "type": "histogram"
           }
          ],
          "histogram2d": [
           {
            "colorbar": {
             "outlinewidth": 0,
             "ticks": ""
            },
            "colorscale": [
             [
              0,
              "#0d0887"
             ],
             [
              0.1111111111111111,
              "#46039f"
             ],
             [
              0.2222222222222222,
              "#7201a8"
             ],
             [
              0.3333333333333333,
              "#9c179e"
             ],
             [
              0.4444444444444444,
              "#bd3786"
             ],
             [
              0.5555555555555556,
              "#d8576b"
             ],
             [
              0.6666666666666666,
              "#ed7953"
             ],
             [
              0.7777777777777778,
              "#fb9f3a"
             ],
             [
              0.8888888888888888,
              "#fdca26"
             ],
             [
              1,
              "#f0f921"
             ]
            ],
            "type": "histogram2d"
           }
          ],
          "histogram2dcontour": [
           {
            "colorbar": {
             "outlinewidth": 0,
             "ticks": ""
            },
            "colorscale": [
             [
              0,
              "#0d0887"
             ],
             [
              0.1111111111111111,
              "#46039f"
             ],
             [
              0.2222222222222222,
              "#7201a8"
             ],
             [
              0.3333333333333333,
              "#9c179e"
             ],
             [
              0.4444444444444444,
              "#bd3786"
             ],
             [
              0.5555555555555556,
              "#d8576b"
             ],
             [
              0.6666666666666666,
              "#ed7953"
             ],
             [
              0.7777777777777778,
              "#fb9f3a"
             ],
             [
              0.8888888888888888,
              "#fdca26"
             ],
             [
              1,
              "#f0f921"
             ]
            ],
            "type": "histogram2dcontour"
           }
          ],
          "mesh3d": [
           {
            "colorbar": {
             "outlinewidth": 0,
             "ticks": ""
            },
            "type": "mesh3d"
           }
          ],
          "parcoords": [
           {
            "line": {
             "colorbar": {
              "outlinewidth": 0,
              "ticks": ""
             }
            },
            "type": "parcoords"
           }
          ],
          "pie": [
           {
            "automargin": true,
            "type": "pie"
           }
          ],
          "scatter": [
           {
            "marker": {
             "colorbar": {
              "outlinewidth": 0,
              "ticks": ""
             }
            },
            "type": "scatter"
           }
          ],
          "scatter3d": [
           {
            "line": {
             "colorbar": {
              "outlinewidth": 0,
              "ticks": ""
             }
            },
            "marker": {
             "colorbar": {
              "outlinewidth": 0,
              "ticks": ""
             }
            },
            "type": "scatter3d"
           }
          ],
          "scattercarpet": [
           {
            "marker": {
             "colorbar": {
              "outlinewidth": 0,
              "ticks": ""
             }
            },
            "type": "scattercarpet"
           }
          ],
          "scattergeo": [
           {
            "marker": {
             "colorbar": {
              "outlinewidth": 0,
              "ticks": ""
             }
            },
            "type": "scattergeo"
           }
          ],
          "scattergl": [
           {
            "marker": {
             "colorbar": {
              "outlinewidth": 0,
              "ticks": ""
             }
            },
            "type": "scattergl"
           }
          ],
          "scattermapbox": [
           {
            "marker": {
             "colorbar": {
              "outlinewidth": 0,
              "ticks": ""
             }
            },
            "type": "scattermapbox"
           }
          ],
          "scatterpolar": [
           {
            "marker": {
             "colorbar": {
              "outlinewidth": 0,
              "ticks": ""
             }
            },
            "type": "scatterpolar"
           }
          ],
          "scatterpolargl": [
           {
            "marker": {
             "colorbar": {
              "outlinewidth": 0,
              "ticks": ""
             }
            },
            "type": "scatterpolargl"
           }
          ],
          "scatterternary": [
           {
            "marker": {
             "colorbar": {
              "outlinewidth": 0,
              "ticks": ""
             }
            },
            "type": "scatterternary"
           }
          ],
          "surface": [
           {
            "colorbar": {
             "outlinewidth": 0,
             "ticks": ""
            },
            "colorscale": [
             [
              0,
              "#0d0887"
             ],
             [
              0.1111111111111111,
              "#46039f"
             ],
             [
              0.2222222222222222,
              "#7201a8"
             ],
             [
              0.3333333333333333,
              "#9c179e"
             ],
             [
              0.4444444444444444,
              "#bd3786"
             ],
             [
              0.5555555555555556,
              "#d8576b"
             ],
             [
              0.6666666666666666,
              "#ed7953"
             ],
             [
              0.7777777777777778,
              "#fb9f3a"
             ],
             [
              0.8888888888888888,
              "#fdca26"
             ],
             [
              1,
              "#f0f921"
             ]
            ],
            "type": "surface"
           }
          ],
          "table": [
           {
            "cells": {
             "fill": {
              "color": "#EBF0F8"
             },
             "line": {
              "color": "white"
             }
            },
            "header": {
             "fill": {
              "color": "#C8D4E3"
             },
             "line": {
              "color": "white"
             }
            },
            "type": "table"
           }
          ]
         },
         "layout": {
          "annotationdefaults": {
           "arrowcolor": "#2a3f5f",
           "arrowhead": 0,
           "arrowwidth": 1
          },
          "autotypenumbers": "strict",
          "coloraxis": {
           "colorbar": {
            "outlinewidth": 0,
            "ticks": ""
           }
          },
          "colorscale": {
           "diverging": [
            [
             0,
             "#8e0152"
            ],
            [
             0.1,
             "#c51b7d"
            ],
            [
             0.2,
             "#de77ae"
            ],
            [
             0.3,
             "#f1b6da"
            ],
            [
             0.4,
             "#fde0ef"
            ],
            [
             0.5,
             "#f7f7f7"
            ],
            [
             0.6,
             "#e6f5d0"
            ],
            [
             0.7,
             "#b8e186"
            ],
            [
             0.8,
             "#7fbc41"
            ],
            [
             0.9,
             "#4d9221"
            ],
            [
             1,
             "#276419"
            ]
           ],
           "sequential": [
            [
             0,
             "#0d0887"
            ],
            [
             0.1111111111111111,
             "#46039f"
            ],
            [
             0.2222222222222222,
             "#7201a8"
            ],
            [
             0.3333333333333333,
             "#9c179e"
            ],
            [
             0.4444444444444444,
             "#bd3786"
            ],
            [
             0.5555555555555556,
             "#d8576b"
            ],
            [
             0.6666666666666666,
             "#ed7953"
            ],
            [
             0.7777777777777778,
             "#fb9f3a"
            ],
            [
             0.8888888888888888,
             "#fdca26"
            ],
            [
             1,
             "#f0f921"
            ]
           ],
           "sequentialminus": [
            [
             0,
             "#0d0887"
            ],
            [
             0.1111111111111111,
             "#46039f"
            ],
            [
             0.2222222222222222,
             "#7201a8"
            ],
            [
             0.3333333333333333,
             "#9c179e"
            ],
            [
             0.4444444444444444,
             "#bd3786"
            ],
            [
             0.5555555555555556,
             "#d8576b"
            ],
            [
             0.6666666666666666,
             "#ed7953"
            ],
            [
             0.7777777777777778,
             "#fb9f3a"
            ],
            [
             0.8888888888888888,
             "#fdca26"
            ],
            [
             1,
             "#f0f921"
            ]
           ]
          },
          "colorway": [
           "#636efa",
           "#EF553B",
           "#00cc96",
           "#ab63fa",
           "#FFA15A",
           "#19d3f3",
           "#FF6692",
           "#B6E880",
           "#FF97FF",
           "#FECB52"
          ],
          "font": {
           "color": "#2a3f5f"
          },
          "geo": {
           "bgcolor": "white",
           "lakecolor": "white",
           "landcolor": "#E5ECF6",
           "showlakes": true,
           "showland": true,
           "subunitcolor": "white"
          },
          "hoverlabel": {
           "align": "left"
          },
          "hovermode": "closest",
          "mapbox": {
           "style": "light"
          },
          "paper_bgcolor": "white",
          "plot_bgcolor": "#E5ECF6",
          "polar": {
           "angularaxis": {
            "gridcolor": "white",
            "linecolor": "white",
            "ticks": ""
           },
           "bgcolor": "#E5ECF6",
           "radialaxis": {
            "gridcolor": "white",
            "linecolor": "white",
            "ticks": ""
           }
          },
          "scene": {
           "xaxis": {
            "backgroundcolor": "#E5ECF6",
            "gridcolor": "white",
            "gridwidth": 2,
            "linecolor": "white",
            "showbackground": true,
            "ticks": "",
            "zerolinecolor": "white"
           },
           "yaxis": {
            "backgroundcolor": "#E5ECF6",
            "gridcolor": "white",
            "gridwidth": 2,
            "linecolor": "white",
            "showbackground": true,
            "ticks": "",
            "zerolinecolor": "white"
           },
           "zaxis": {
            "backgroundcolor": "#E5ECF6",
            "gridcolor": "white",
            "gridwidth": 2,
            "linecolor": "white",
            "showbackground": true,
            "ticks": "",
            "zerolinecolor": "white"
           }
          },
          "shapedefaults": {
           "line": {
            "color": "#2a3f5f"
           }
          },
          "ternary": {
           "aaxis": {
            "gridcolor": "white",
            "linecolor": "white",
            "ticks": ""
           },
           "baxis": {
            "gridcolor": "white",
            "linecolor": "white",
            "ticks": ""
           },
           "bgcolor": "#E5ECF6",
           "caxis": {
            "gridcolor": "white",
            "linecolor": "white",
            "ticks": ""
           }
          },
          "title": {
           "x": 0.05
          },
          "xaxis": {
           "automargin": true,
           "gridcolor": "white",
           "linecolor": "white",
           "ticks": "",
           "title": {
            "standoff": 15
           },
           "zerolinecolor": "white",
           "zerolinewidth": 2
          },
          "yaxis": {
           "automargin": true,
           "gridcolor": "white",
           "linecolor": "white",
           "ticks": "",
           "title": {
            "standoff": 15
           },
           "zerolinecolor": "white",
           "zerolinewidth": 2
          }
         }
        },
        "xaxis": {
         "anchor": "y",
         "domain": [
          0,
          1
         ],
         "title": {
          "text": "category"
         }
        },
        "yaxis": {
         "anchor": "x",
         "domain": [
          0,
          1
         ],
         "title": {
          "text": "count"
         }
        }
       }
      }
     },
     "metadata": {},
     "output_type": "display_data"
    }
   ],
   "source": [
    "px.histogram(data, x=\"category\", color=\"attended\")"
   ]
  },
  {
   "cell_type": "code",
   "execution_count": 215,
   "metadata": {},
   "outputs": [
    {
     "data": {
      "text/html": [
       "<div>\n",
       "<style scoped>\n",
       "    .dataframe tbody tr th:only-of-type {\n",
       "        vertical-align: middle;\n",
       "    }\n",
       "\n",
       "    .dataframe tbody tr th {\n",
       "        vertical-align: top;\n",
       "    }\n",
       "\n",
       "    .dataframe thead th {\n",
       "        text-align: right;\n",
       "    }\n",
       "</style>\n",
       "<table border=\"1\" class=\"dataframe\">\n",
       "  <thead>\n",
       "    <tr style=\"text-align: right;\">\n",
       "      <th></th>\n",
       "      <th>category</th>\n",
       "      <th>attended</th>\n",
       "      <th>booking_id</th>\n",
       "      <th>months_as_member</th>\n",
       "      <th>weight</th>\n",
       "      <th>days_before</th>\n",
       "      <th>day_of_week</th>\n",
       "      <th>time</th>\n",
       "    </tr>\n",
       "  </thead>\n",
       "  <tbody>\n",
       "    <tr>\n",
       "      <th>0</th>\n",
       "      <td>Aqua</td>\n",
       "      <td>0</td>\n",
       "      <td>49</td>\n",
       "      <td>49</td>\n",
       "      <td>49</td>\n",
       "      <td>49</td>\n",
       "      <td>49</td>\n",
       "      <td>49</td>\n",
       "    </tr>\n",
       "    <tr>\n",
       "      <th>1</th>\n",
       "      <td>Aqua</td>\n",
       "      <td>1</td>\n",
       "      <td>25</td>\n",
       "      <td>25</td>\n",
       "      <td>25</td>\n",
       "      <td>25</td>\n",
       "      <td>25</td>\n",
       "      <td>25</td>\n",
       "    </tr>\n",
       "    <tr>\n",
       "      <th>2</th>\n",
       "      <td>Cycling</td>\n",
       "      <td>0</td>\n",
       "      <td>262</td>\n",
       "      <td>262</td>\n",
       "      <td>262</td>\n",
       "      <td>262</td>\n",
       "      <td>262</td>\n",
       "      <td>262</td>\n",
       "    </tr>\n",
       "    <tr>\n",
       "      <th>3</th>\n",
       "      <td>Cycling</td>\n",
       "      <td>1</td>\n",
       "      <td>108</td>\n",
       "      <td>108</td>\n",
       "      <td>108</td>\n",
       "      <td>108</td>\n",
       "      <td>108</td>\n",
       "      <td>108</td>\n",
       "    </tr>\n",
       "    <tr>\n",
       "      <th>4</th>\n",
       "      <td>HIIT</td>\n",
       "      <td>0</td>\n",
       "      <td>447</td>\n",
       "      <td>447</td>\n",
       "      <td>447</td>\n",
       "      <td>447</td>\n",
       "      <td>447</td>\n",
       "      <td>447</td>\n",
       "    </tr>\n",
       "    <tr>\n",
       "      <th>5</th>\n",
       "      <td>HIIT</td>\n",
       "      <td>1</td>\n",
       "      <td>210</td>\n",
       "      <td>210</td>\n",
       "      <td>210</td>\n",
       "      <td>210</td>\n",
       "      <td>210</td>\n",
       "      <td>210</td>\n",
       "    </tr>\n",
       "    <tr>\n",
       "      <th>6</th>\n",
       "      <td>Strength</td>\n",
       "      <td>0</td>\n",
       "      <td>169</td>\n",
       "      <td>169</td>\n",
       "      <td>169</td>\n",
       "      <td>169</td>\n",
       "      <td>169</td>\n",
       "      <td>169</td>\n",
       "    </tr>\n",
       "    <tr>\n",
       "      <th>7</th>\n",
       "      <td>Strength</td>\n",
       "      <td>1</td>\n",
       "      <td>62</td>\n",
       "      <td>62</td>\n",
       "      <td>62</td>\n",
       "      <td>62</td>\n",
       "      <td>62</td>\n",
       "      <td>62</td>\n",
       "    </tr>\n",
       "    <tr>\n",
       "      <th>8</th>\n",
       "      <td>Yoga</td>\n",
       "      <td>0</td>\n",
       "      <td>93</td>\n",
       "      <td>93</td>\n",
       "      <td>93</td>\n",
       "      <td>93</td>\n",
       "      <td>93</td>\n",
       "      <td>93</td>\n",
       "    </tr>\n",
       "    <tr>\n",
       "      <th>9</th>\n",
       "      <td>Yoga</td>\n",
       "      <td>1</td>\n",
       "      <td>42</td>\n",
       "      <td>42</td>\n",
       "      <td>42</td>\n",
       "      <td>42</td>\n",
       "      <td>42</td>\n",
       "      <td>42</td>\n",
       "    </tr>\n",
       "  </tbody>\n",
       "</table>\n",
       "</div>"
      ],
      "text/plain": [
       "   category  attended  booking_id  months_as_member  weight  days_before  \\\n",
       "0      Aqua         0          49                49      49           49   \n",
       "1      Aqua         1          25                25      25           25   \n",
       "2   Cycling         0         262               262     262          262   \n",
       "3   Cycling         1         108               108     108          108   \n",
       "4      HIIT         0         447               447     447          447   \n",
       "5      HIIT         1         210               210     210          210   \n",
       "6  Strength         0         169               169     169          169   \n",
       "7  Strength         1          62                62      62           62   \n",
       "8      Yoga         0          93                93      93           93   \n",
       "9      Yoga         1          42                42      42           42   \n",
       "\n",
       "   day_of_week  time  \n",
       "0           49    49  \n",
       "1           25    25  \n",
       "2          262   262  \n",
       "3          108   108  \n",
       "4          447   447  \n",
       "5          210   210  \n",
       "6          169   169  \n",
       "7           62    62  \n",
       "8           93    93  \n",
       "9           42    42  "
      ]
     },
     "execution_count": 215,
     "metadata": {},
     "output_type": "execute_result"
    }
   ],
   "source": [
    "attendance_per_category = data.groupby([\"category\", \"attended\"], as_index=False).count()\n",
    "attendance_per_category"
   ]
  },
  {
   "cell_type": "code",
   "execution_count": 218,
   "metadata": {},
   "outputs": [
    {
     "name": "stdout",
     "output_type": "stream",
     "text": [
      "The absence ratio for Aqua is 0.6621621621621622\n",
      "The absence ratio for Cycling is 0.7081081081081081\n",
      "The absence ratio for HIIT is 0.680365296803653\n",
      "The absence ratio for Strength is 0.7316017316017316\n",
      "The absence ratio for Yoga is 0.6888888888888889\n"
     ]
    }
   ],
   "source": [
    "for category in [\"Aqua\", \"Cycling\", \"HIIT\", \"Strength\", \"Yoga\"]:\n",
    "    df_filtered = attendance_per_category[attendance_per_category[\"category\"] == category]\n",
    "    absence_ratio = df_filtered[df_filtered[\"attended\"] == 0][\"booking_id\"].values[0] / (df_filtered[df_filtered[\"attended\"] == 0][\"booking_id\"].values[0] + df_filtered[df_filtered[\"attended\"] == 1][\"booking_id\"].values[0])\n",
    "    print(f\"The absence ratio for {category} is {absence_ratio}\")"
   ]
  },
  {
   "cell_type": "markdown",
   "metadata": {},
   "source": [
    "* Since the model has an accuracy of ~ 76%, then it will correctly identify 76% of absences, potentially reducing absences by 76%.</br></br>\n",
    "* However, the model soemtimes wrongly classifies as not attending when in fact the customer will attend. Those wrong \"not attending\" classifications represent ~10% of all \"not attending\" classifications, thus increasing the risk of overbooking. </br></br>\n",
    "* However, when looking at the absence ratios for each class category (hovering between 66 and 73%), the risk of overbooking is very limited.Those wrong \"not attending\" classifications will most likely not result in overbooking, rather it will reduce the benefits of the model by about 10%."
   ]
  },
  {
   "cell_type": "code",
   "execution_count": 220,
   "metadata": {},
   "outputs": [
    {
     "data": {
      "image/png": "[encoded data removed]",
      "text/plain": [
       "<Figure size 432x288 with 2 Axes>"
      ]
     },
     "metadata": {
      "needs_background": "light"
     },
     "output_type": "display_data"
    }
   ],
   "source": [
    "fig = sns.heatmap(confusion_matrix(y_true, y_pred), annot=True)\n",
    "plt.xlabel(\"Predicted\")\n",
    "plt.ylabel(\"True\");"
   ]
  },
  {
   "cell_type": "markdown",
   "metadata": {},
   "source": [
    "For a class of 100 capacity that is fully booked (i.e. received 100 bookings), on average 68 will not attend.</br>\n",
    "Out of those 68, the model will correctly identify 52 (precision). Thus liberating 52 spots for other people to book.\n",
    "\n",
    "However, among the 32 attending, the model will classify 8 as not attending (1-recall). Thus liberating an extra 8 spots.\n",
    "\n",
    "So in total, instead of liberating 68 spots, the model will liberate only 60 for other people to book.\n",
    "\n",
    "Eventually, reducing the non-attendance by 88%."
   ]
  },
  {
   "cell_type": "markdown",
   "metadata": {},
   "source": []
  }
 ],
 "metadata": {
  "kernelspec": {
   "display_name": "lewagon_current",
   "language": "python",
   "name": "python3"
  },
  "language_info": {
   "codemirror_mode": {
    "name": "ipython",
    "version": 3
   },
   "file_extension": ".py",
   "mimetype": "text/x-python",
   "name": "python",
   "nbconvert_exporter": "python",
   "pygments_lexer": "ipython3",
   "version": "3.8.12"
  }
 },
 "nbformat": 4,
 "nbformat_minor": 2
}
